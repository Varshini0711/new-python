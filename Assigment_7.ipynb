{
  "nbformat": 4,
  "nbformat_minor": 0,
  "metadata": {
    "colab": {
      "name": "Assigment_7.ipynb",
      "provenance": [],
      "authorship_tag": "ABX9TyMBC89eDZ4hgfcnU6Oxv5hz",
      "include_colab_link": true
    },
    "kernelspec": {
      "name": "python3",
      "display_name": "Python 3"
    }
  },
  "cells": [
    {
      "cell_type": "markdown",
      "metadata": {
        "id": "view-in-github",
        "colab_type": "text"
      },
      "source": [
        "<a href=\"https://colab.research.google.com/github/Varshini0711/new-python/blob/master/Assigment_7.ipynb\" target=\"_parent\"><img src=\"https://colab.research.google.com/assets/colab-badge.svg\" alt=\"Open In Colab\"/></a>"
      ]
    },
    {
      "cell_type": "markdown",
      "metadata": {
        "id": "xZODWZmIwnxH",
        "colab_type": "text"
      },
      "source": [
        "python program to find the square root"
      ]
    },
    {
      "cell_type": "code",
      "metadata": {
        "id": "j7zWO1aPwvLn",
        "colab_type": "code",
        "colab": {
          "base_uri": "https://localhost:8080/",
          "height": 51
        },
        "outputId": "84c9fbe1-c017-4c8a-d3cc-c35a6896e837"
      },
      "source": [
        "num=float(input('enter a number:'))\n",
        "num_sqrt=num**0.5\n",
        "print('the square root of %0.3f is %0.3f'%(num,num_sqrt))"
      ],
      "execution_count": 1,
      "outputs": [
        {
          "output_type": "stream",
          "text": [
            "enter a number:28\n",
            "the square root of 28.000 is 5.292\n"
          ],
          "name": "stdout"
        }
      ]
    },
    {
      "cell_type": "markdown",
      "metadata": {
        "id": "vlJS0vIr6Hrv",
        "colab_type": "text"
      },
      "source": [
        "python program to check if a number is positive,negative or 0"
      ]
    },
    {
      "cell_type": "code",
      "metadata": {
        "id": "ssGfmXmi6VQW",
        "colab_type": "code",
        "colab": {
          "base_uri": "https://localhost:8080/",
          "height": 51
        },
        "outputId": "cb4d9e81-49a6-4691-8a73-ef5691ab739a"
      },
      "source": [
        "num=float(input(\"enter a number:\"))\n",
        "if num>0:\n",
        "  print(\"positive number\")\n",
        "elif num==0:\n",
        "  print(\"zero\")\n",
        "else:\n",
        "  print(\"negative number\")    "
      ],
      "execution_count": 2,
      "outputs": [
        {
          "output_type": "stream",
          "text": [
            "enter a number:-7\n",
            "negative number\n"
          ],
          "name": "stdout"
        }
      ]
    },
    {
      "cell_type": "markdown",
      "metadata": {
        "id": "8c_qkkWE7bf1",
        "colab_type": "text"
      },
      "source": [
        "python program to check leap year"
      ]
    },
    {
      "cell_type": "code",
      "metadata": {
        "id": "tiPLM4qq7kB6",
        "colab_type": "code",
        "colab": {
          "base_uri": "https://localhost:8080/",
          "height": 51
        },
        "outputId": "f5c54fb6-8c5a-4123-cefe-91c14868db28"
      },
      "source": [
        "year=int(input(\"enter a year\"))\n",
        "if(year % 4)==0:\n",
        "  if(year % 100)==0:\n",
        "    if(year % 400)==0:\n",
        "      print(\"{0} is a leap year\".format(year))\n",
        "    else:\n",
        "      print(\"{0} is not a leap year\".format(year))\n",
        "  else:\n",
        "    print(\"{0} is a leap year\".format(year))\n",
        "else:\n",
        "  print(\"{0] is not a leap year\".format(year))          "
      ],
      "execution_count": 3,
      "outputs": [
        {
          "output_type": "stream",
          "text": [
            "enter a year2004\n",
            "2004 is a leap year\n"
          ],
          "name": "stdout"
        }
      ]
    },
    {
      "cell_type": "markdown",
      "metadata": {
        "id": "MTkdKCro-xkh",
        "colab_type": "text"
      },
      "source": [
        "python program to print the fibonacci sequence"
      ]
    },
    {
      "cell_type": "code",
      "metadata": {
        "id": "VflUSw4l-7aA",
        "colab_type": "code",
        "colab": {
          "base_uri": "https://localhost:8080/",
          "height": 289
        },
        "outputId": "5b201138-1c32-4ebb-f4ed-07b968ba9851"
      },
      "source": [
        "nterms = int(input(\"How many terms? \"))\n",
        "\n",
        "n1, n2 = 0, 1\n",
        "count = 0\n",
        "\n",
        "if nterms <= 0:\n",
        "   print(\"Please enter a positive integer\")\n",
        "elif nterms == 1:\n",
        "   print(\"Fibonacci sequence upto\",nterms,\":\")\n",
        "   print(n1)\n",
        "else:\n",
        "   print(\"Fibonacci sequence:\")\n",
        "   while count < nterms:\n",
        "       print(n1)\n",
        "       nth = n1 + n2\n",
        "       n1 = n2\n",
        "       n2 = nth\n",
        "       count += 1\n"
      ],
      "execution_count": 4,
      "outputs": [
        {
          "output_type": "stream",
          "text": [
            "How many terms? 14\n",
            "Fibonacci sequence:\n",
            "0\n",
            "1\n",
            "1\n",
            "2\n",
            "3\n",
            "5\n",
            "8\n",
            "13\n",
            "21\n",
            "34\n",
            "55\n",
            "89\n",
            "144\n",
            "233\n"
          ],
          "name": "stdout"
        }
      ]
    },
    {
      "cell_type": "markdown",
      "metadata": {
        "id": "k48G3FcA_vgH",
        "colab_type": "text"
      },
      "source": [
        "python program to check Armstrong number"
      ]
    },
    {
      "cell_type": "code",
      "metadata": {
        "id": "3PctJybJAEs9",
        "colab_type": "code",
        "colab": {
          "base_uri": "https://localhost:8080/",
          "height": 51
        },
        "outputId": "2d49b0fb-60e5-4149-faed-b2dcd8f1e52f"
      },
      "source": [
        "num=int(input(\"enter a number:\"))\n",
        "sum=0\n",
        "temp=num\n",
        "while temp > 0:\n",
        "  digit = temp % 10\n",
        "  sum+= digit**3\n",
        "  temp//=10\n",
        "\n",
        "if num==sum:\n",
        "  print(num,\"is a Armstrong number\")\n",
        "else:\n",
        "  print(num,\"is not an Armstrong number\")"
      ],
      "execution_count": 6,
      "outputs": [
        {
          "output_type": "stream",
          "text": [
            "enter a number:2807\n",
            "2807 is not an Armstrong number\n"
          ],
          "name": "stdout"
        }
      ]
    },
    {
      "cell_type": "markdown",
      "metadata": {
        "id": "HSoJXMQiCade",
        "colab_type": "text"
      },
      "source": [
        "python orogram to find Armstrong number in an interval"
      ]
    },
    {
      "cell_type": "code",
      "metadata": {
        "id": "uV6oIbzBCnqa",
        "colab_type": "code",
        "colab": {
          "base_uri": "https://localhost:8080/",
          "height": 102
        },
        "outputId": "057a7810-4ff1-471e-dc45-7be5dcb89eed"
      },
      "source": [
        "lower = 100\n",
        "upper = 2000\n",
        "\n",
        "for num in range(lower, upper + 1):\n",
        "\n",
        "   order = len(str(num))\n",
        "    \n",
        "   sum = 0\n",
        "\n",
        "   temp = num\n",
        "   while temp > 0:\n",
        "       digit = temp % 10\n",
        "       sum += digit ** order\n",
        "       temp //= 10\n",
        "\n",
        "   if num == sum:\n",
        "       print(num)"
      ],
      "execution_count": 7,
      "outputs": [
        {
          "output_type": "stream",
          "text": [
            "153\n",
            "370\n",
            "371\n",
            "407\n",
            "1634\n"
          ],
          "name": "stdout"
        }
      ]
    }
  ]
}