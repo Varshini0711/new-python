{
  "nbformat": 4,
  "nbformat_minor": 0,
  "metadata": {
    "colab": {
      "name": "Assignment_11.ipynb",
      "provenance": [],
      "authorship_tag": "ABX9TyMSRYIho13Web+z1xbT0b8u",
      "include_colab_link": true
    },
    "kernelspec": {
      "name": "python3",
      "display_name": "Python 3"
    }
  },
  "cells": [
    {
      "cell_type": "markdown",
      "metadata": {
        "id": "view-in-github",
        "colab_type": "text"
      },
      "source": [
        "<a href=\"https://colab.research.google.com/github/Varshini0711/new-python/blob/master/Assignment_11.ipynb\" target=\"_parent\"><img src=\"https://colab.research.google.com/assets/colab-badge.svg\" alt=\"Open In Colab\"/></a>"
      ]
    },
    {
      "cell_type": "markdown",
      "metadata": {
        "id": "5VWjOmnTlNaI",
        "colab_type": "text"
      },
      "source": [
        ".Write a Python program to read an entire text file"
      ]
    },
    {
      "cell_type": "code",
      "metadata": {
        "id": "fUa3cq4OlPQO",
        "colab_type": "code",
        "colab": {
          "base_uri": "https://localhost:8080/",
          "height": 34
        },
        "outputId": "9f187e2c-bd22-4550-c2fd-8fe0a9c451a1"
      },
      "source": [
        "f=open(\"python.txt\",\"w\")\n",
        "f.close()\n",
        "f=open(\"python1.txt\",\"w\")\n",
        "f.write(\"hi guys\")\n",
        "f.close()\n",
        "f=open(\"python1.txt\",\"r\")\n",
        "str=f.read()\n",
        "print(str)\n",
        "f.close()"
      ],
      "execution_count": 1,
      "outputs": [
        {
          "output_type": "stream",
          "text": [
            "hi guys\n"
          ],
          "name": "stdout"
        }
      ]
    },
    {
      "cell_type": "markdown",
      "metadata": {
        "id": "kSkFB0R7lhE4",
        "colab_type": "text"
      },
      "source": [
        ""
      ]
    },
    {
      "cell_type": "code",
      "metadata": {
        "id": "2VcKUOqyli9m",
        "colab_type": "code",
        "colab": {}
      },
      "source": [
        "a_file=open(\"file_name.txt\",\"w\")\n",
        "f.close()"
      ],
      "execution_count": 41,
      "outputs": []
    },
    {
      "cell_type": "code",
      "metadata": {
        "id": "XW3m02ZqlpNi",
        "colab_type": "code",
        "colab": {
          "base_uri": "https://localhost:8080/",
          "height": 34
        },
        "outputId": "e945f0c9-b9e0-4a8c-d902-46bd25588734"
      },
      "source": [
        "a_file = open(\"file_name.txt\")\n",
        "number_of_lines = 3\n",
        "for i in range(number_of_lines):\n",
        "    line = a_file.readline()\n",
        "print(line)"
      ],
      "execution_count": 43,
      "outputs": [
        {
          "output_type": "stream",
          "text": [
            "\n"
          ],
          "name": "stdout"
        }
      ]
    },
    {
      "cell_type": "markdown",
      "metadata": {
        "id": "jseISHkjltOE",
        "colab_type": "text"
      },
      "source": [
        "3.Write a Python program to append text to a file and display the text."
      ]
    },
    {
      "cell_type": "code",
      "metadata": {
        "id": "b3LFb2Amlylu",
        "colab_type": "code",
        "colab": {}
      },
      "source": [
        "f=open(\"python.txt\",\"w\")\n",
        "f.close()"
      ],
      "execution_count": 39,
      "outputs": []
    },
    {
      "cell_type": "code",
      "metadata": {
        "id": "FDHnebN0l9M1",
        "colab_type": "code",
        "colab": {}
      },
      "source": [
        "f=open(\"python1.txt\",\"w\")\n",
        "f.write(\"hi guys\")\n",
        "f.close()"
      ],
      "execution_count": 40,
      "outputs": []
    },
    {
      "cell_type": "code",
      "metadata": {
        "id": "YaIaUZWhmNQi",
        "colab_type": "code",
        "colab": {
          "base_uri": "https://localhost:8080/",
          "height": 34
        },
        "outputId": "338a3c6e-3c90-4fb3-fdd2-1945fa525e44"
      },
      "source": [
        "f=open(\"python1.txt\",\"r\")\n",
        "print(f.read())\n",
        "f.close()"
      ],
      "execution_count": 2,
      "outputs": [
        {
          "output_type": "stream",
          "text": [
            "hi guys\n"
          ],
          "name": "stdout"
        }
      ]
    },
    {
      "cell_type": "code",
      "metadata": {
        "id": "tPyTyR-cmlKo",
        "colab_type": "code",
        "colab": {}
      },
      "source": [
        "\n",
        "f=open(\"python1.txt\",\"a\")\n",
        "s='''am \n",
        "   Fine'''\n",
        "f.write(s)\n",
        "f.close()"
      ],
      "execution_count": null,
      "outputs": []
    },
    {
      "cell_type": "markdown",
      "metadata": {
        "id": "bxy0AgWVmqRl",
        "colab_type": "text"
      },
      "source": [
        "4.Write a Python program to read last n lines of a file."
      ]
    },
    {
      "cell_type": "code",
      "metadata": {
        "id": "1pAf-CtemvYp",
        "colab_type": "code",
        "colab": {
          "base_uri": "https://localhost:8080/",
          "height": 34
        },
        "outputId": "a8e2f52d-2285-4f40-d869-3ccef4e1a52d"
      },
      "source": [
        "\n",
        "def LastNlines(fname, N):\n",
        "  with open(fname) as file:\n",
        "    for line in (file.readlines() [-N:]):\n",
        "      print(line, end ='')\n",
        "if __name__ == '__main__':\n",
        "  fname = 'File1.txt'\n",
        "  N = 3\n",
        "  try:\n",
        "   LastNlines(fname, N) \n",
        "  except:\n",
        "   print('File found')"
      ],
      "execution_count": 3,
      "outputs": [
        {
          "output_type": "stream",
          "text": [
            "File found\n"
          ],
          "name": "stdout"
        }
      ]
    },
    {
      "cell_type": "markdown",
      "metadata": {
        "id": "aWbqsbhVnKU-",
        "colab_type": "text"
      },
      "source": [
        "5.Write a Python program to read a file line by line store it into a variable."
      ]
    },
    {
      "cell_type": "code",
      "metadata": {
        "id": "GkRBJnd3nMKY",
        "colab_type": "code",
        "colab": {}
      },
      "source": [
        "f1=open(\"test.txt\",\"w\")\n",
        "f.close()"
      ],
      "execution_count": 10,
      "outputs": []
    },
    {
      "cell_type": "code",
      "metadata": {
        "id": "SpwvSea9nQbw",
        "colab_type": "code",
        "colab": {}
      },
      "source": [
        "f1=open(\"test1.txt\",\"w\")\n",
        "f1.write(\"python program\")\n",
        "f.close()"
      ],
      "execution_count": 11,
      "outputs": []
    },
    {
      "cell_type": "code",
      "metadata": {
        "id": "Yqo7XZn1nW0l",
        "colab_type": "code",
        "colab": {
          "base_uri": "https://localhost:8080/",
          "height": 34
        },
        "outputId": "beb6f4f6-c07f-4f93-b187-f86a856cd3ec"
      },
      "source": [
        "f1=open('test1.txt').readlines()\n",
        "print(f1)"
      ],
      "execution_count": 13,
      "outputs": [
        {
          "output_type": "stream",
          "text": [
            "['python program']\n"
          ],
          "name": "stdout"
        }
      ]
    },
    {
      "cell_type": "markdown",
      "metadata": {
        "id": "Ktyzisz7ppW7",
        "colab_type": "text"
      },
      "source": [
        "6.write a program to read a file line by line store it into a list"
      ]
    },
    {
      "cell_type": "code",
      "metadata": {
        "id": "_t9ZwZrapw2i",
        "colab_type": "code",
        "colab": {}
      },
      "source": [
        "infile=open(\"test.txt\",\"w\")\n",
        "f.close()"
      ],
      "execution_count": 14,
      "outputs": []
    },
    {
      "cell_type": "code",
      "metadata": {
        "id": "V7Z2jhz8p1Ik",
        "colab_type": "code",
        "colab": {}
      },
      "source": [
        "infile=open(\"test1.txt\",\"w\")\n",
        "infile.write(\"python\")\n",
        "f.close()"
      ],
      "execution_count": 15,
      "outputs": []
    },
    {
      "cell_type": "code",
      "metadata": {
        "id": "NgB2GNa3p_Wq",
        "colab_type": "code",
        "colab": {
          "base_uri": "https://localhost:8080/",
          "height": 34
        },
        "outputId": "03444c9e-2085-4dc9-a77a-024d0f84feb1"
      },
      "source": [
        "infile = \"test1.txt\"\n",
        "content_list = open(infile).readlines()\n",
        "print (content_list)"
      ],
      "execution_count": 16,
      "outputs": [
        {
          "output_type": "stream",
          "text": [
            "['python']\n"
          ],
          "name": "stdout"
        }
      ]
    },
    {
      "cell_type": "markdown",
      "metadata": {
        "id": "-mBe1x8wrHHx",
        "colab_type": "text"
      },
      "source": [
        "7.write a python program to read a file line by line store it into a array."
      ]
    },
    {
      "cell_type": "code",
      "metadata": {
        "id": "K2deHBdNrwXX",
        "colab_type": "code",
        "colab": {}
      },
      "source": [
        "f2=open(\"test1.txt\",\"w\")\n",
        "f.close()"
      ],
      "execution_count": 17,
      "outputs": []
    },
    {
      "cell_type": "code",
      "metadata": {
        "id": "Sy8bq_lxr2Hg",
        "colab_type": "code",
        "colab": {}
      },
      "source": [
        "f2=open(\"test1.txt\",\"w\")\n",
        "s='''welcome\n",
        "      to\n",
        "     Python'''\n",
        "f2.write(s)\n",
        "f.close()"
      ],
      "execution_count": 19,
      "outputs": []
    },
    {
      "cell_type": "code",
      "metadata": {
        "id": "8jf-5X_cr96G",
        "colab_type": "code",
        "colab": {
          "base_uri": "https://localhost:8080/",
          "height": 34
        },
        "outputId": "3f9104f7-d4bf-47af-c53c-e0ac5240ebde"
      },
      "source": [
        "f2=(\"test1.txt\")\n",
        "content_array=open(f2).readlines()\n",
        "print(content_array)"
      ],
      "execution_count": 20,
      "outputs": [
        {
          "output_type": "stream",
          "text": [
            "['welcome\\n', '      to\\n', '     Python']\n"
          ],
          "name": "stdout"
        }
      ]
    },
    {
      "cell_type": "markdown",
      "metadata": {
        "id": "ZJGqzgcesBnH",
        "colab_type": "text"
      },
      "source": [
        "8.Write a Python program to count the number of lines in a text file."
      ]
    },
    {
      "cell_type": "code",
      "metadata": {
        "id": "TQJSzQLEsIhJ",
        "colab_type": "code",
        "colab": {}
      },
      "source": [
        "f3=open(\"file.txt\",\"w\")\n",
        "f3.close()"
      ],
      "execution_count": 21,
      "outputs": []
    },
    {
      "cell_type": "code",
      "metadata": {
        "id": "paDETyI5sOCS",
        "colab_type": "code",
        "colab": {}
      },
      "source": [
        "f3=open(\"file.txt\",\"w\")\n",
        "s='''i\n",
        "     like to\n",
        "     Code'''\n",
        "f3.write(s)\n",
        "f3.close()"
      ],
      "execution_count": 25,
      "outputs": []
    },
    {
      "cell_type": "code",
      "metadata": {
        "id": "G6Sc6xkXsgP_",
        "colab_type": "code",
        "colab": {
          "base_uri": "https://localhost:8080/",
          "height": 34
        },
        "outputId": "ce67e98f-01b2-44d5-9209-741b4b8cb5c5"
      },
      "source": [
        "f3=open(\"file.txt\",\"r\")\n",
        "s=f3.read()\n",
        "print(len(s.split('\\n')))\n",
        "f.close()"
      ],
      "execution_count": 26,
      "outputs": [
        {
          "output_type": "stream",
          "text": [
            "3\n"
          ],
          "name": "stdout"
        }
      ]
    },
    {
      "cell_type": "markdown",
      "metadata": {
        "id": "K33omMEGsna1",
        "colab_type": "text"
      },
      "source": [
        "9.write a python program to get the file size of a plain file."
      ]
    },
    {
      "cell_type": "code",
      "metadata": {
        "id": "A7FATJzls5IO",
        "colab_type": "code",
        "colab": {}
      },
      "source": [
        "file=open(\"test.txt\",\"w\")\n",
        "f.close()"
      ],
      "execution_count": 27,
      "outputs": []
    },
    {
      "cell_type": "code",
      "metadata": {
        "id": "aFe6Kdgvtrgc",
        "colab_type": "code",
        "colab": {}
      },
      "source": [
        "file=open(\"test.txt\",\"w\")\n",
        "file.write(\"programming\")\n",
        "f.close()"
      ],
      "execution_count": 30,
      "outputs": []
    },
    {
      "cell_type": "code",
      "metadata": {
        "id": "CwY_cnqxtxFc",
        "colab_type": "code",
        "colab": {
          "base_uri": "https://localhost:8080/",
          "height": 34
        },
        "outputId": "73e4346b-0c3e-4e4f-d428-42e2d1bd9554"
      },
      "source": [
        "import os\n",
        "os.path.getsize(\"test.txt\")"
      ],
      "execution_count": 31,
      "outputs": [
        {
          "output_type": "execute_result",
          "data": {
            "text/plain": [
              "11"
            ]
          },
          "metadata": {
            "tags": []
          },
          "execution_count": 31
        }
      ]
    },
    {
      "cell_type": "markdown",
      "metadata": {
        "id": "t1rSjGwat3gZ",
        "colab_type": "text"
      },
      "source": [
        "10.write a python program to copy the contents of a file into another."
      ]
    },
    {
      "cell_type": "code",
      "metadata": {
        "id": "OFt7faW5uIxS",
        "colab_type": "code",
        "colab": {}
      },
      "source": [
        "file1=open(\"f1.txt\",\"w\")\n",
        "file1.close()"
      ],
      "execution_count": 32,
      "outputs": []
    },
    {
      "cell_type": "code",
      "metadata": {
        "id": "LcrGTRx6uSqs",
        "colab_type": "code",
        "colab": {}
      },
      "source": [
        "file1=open(\"f1.txt\",\"w\")\n",
        "s='''welcome \n",
        "     to programming\n",
        "     world'''\n",
        "file1.write(s)\n",
        "file1.close()"
      ],
      "execution_count": 36,
      "outputs": []
    },
    {
      "cell_type": "code",
      "metadata": {
        "id": "vkWBifFquWIQ",
        "colab_type": "code",
        "colab": {}
      },
      "source": [
        "file2=open(\"f2.txt\",\"w\")\n",
        "file1=open(\"f1.txt\",\"r\")\n",
        "for line in file1:\n",
        "  file2.write(line)\n",
        "file1.close()\n",
        "file2.close()"
      ],
      "execution_count": 38,
      "outputs": []
    }
  ]
}