{
  "nbformat": 4,
  "nbformat_minor": 0,
  "metadata": {
    "colab": {
      "name": "Assigment_10.ipynb",
      "provenance": [],
      "authorship_tag": "ABX9TyOq5SgCSIkELiMd8JyYFVOh",
      "include_colab_link": true
    },
    "kernelspec": {
      "name": "python3",
      "display_name": "Python 3"
    }
  },
  "cells": [
    {
      "cell_type": "markdown",
      "metadata": {
        "id": "view-in-github",
        "colab_type": "text"
      },
      "source": [
        "<a href=\"https://colab.research.google.com/github/Varshini0711/new-python/blob/master/Assigment_10.ipynb\" target=\"_parent\"><img src=\"https://colab.research.google.com/assets/colab-badge.svg\" alt=\"Open In Colab\"/></a>"
      ]
    },
    {
      "cell_type": "code",
      "metadata": {
        "id": "i6MgVupSbbpb",
        "colab_type": "code",
        "colab": {
          "base_uri": "https://localhost:8080/",
          "height": 153
        },
        "outputId": "84375a3a-0795-4328-fe3e-72158324ce63"
      },
      "source": [
        "lst = []\n",
        "num = int(input('How many numbers: '))\n",
        "for n in range(num):\n",
        "    numbers = int(input('Enter number '))\n",
        "    lst.append(numbers)\n",
        "print(\"Maximum element in the list is :\", max(lst), \"\\nMinimum element in the list is :\", min(lst))\n",
        "\n"
      ],
      "execution_count": 1,
      "outputs": [
        {
          "output_type": "stream",
          "text": [
            "How many numbers: 5\n",
            "Enter number 24\n",
            "Enter number 28\n",
            "Enter number 39\n",
            "Enter number 07\n",
            "Enter number 50\n",
            "Maximum element in the list is : 50 \n",
            "Minimum element in the list is : 7\n"
          ],
          "name": "stdout"
        }
      ]
    },
    {
      "cell_type": "markdown",
      "metadata": {
        "id": "1gOCMCaKcxl2",
        "colab_type": "text"
      },
      "source": [
        "write a python program to remove duplicates from a list"
      ]
    },
    {
      "cell_type": "code",
      "metadata": {
        "id": "9y7tdHvKc7W5",
        "colab_type": "code",
        "colab": {
          "base_uri": "https://localhost:8080/",
          "height": 34
        },
        "outputId": "141932fd-8fff-4ef7-cdb6-f2ab9e1a113c"
      },
      "source": [
        "a = [10,20,30,20,10,45,60,40,70,45,50,40]\n",
        "\n",
        "dup_items = set()\n",
        "uniq_items = []\n",
        "for x in a:\n",
        "    if x not in dup_items:\n",
        "        uniq_items.append(x)\n",
        "        dup_items.add(x)\n",
        "\n",
        "print(dup_items)"
      ],
      "execution_count": 2,
      "outputs": [
        {
          "output_type": "stream",
          "text": [
            "{70, 40, 10, 45, 50, 20, 60, 30}\n"
          ],
          "name": "stdout"
        }
      ]
    },
    {
      "cell_type": "markdown",
      "metadata": {
        "id": "gTofqMLrd4T4",
        "colab_type": "text"
      },
      "source": [
        "write a program to check a list is empty or not"
      ]
    },
    {
      "cell_type": "code",
      "metadata": {
        "id": "O8t7LVONeFA1",
        "colab_type": "code",
        "colab": {
          "base_uri": "https://localhost:8080/",
          "height": 34
        },
        "outputId": "7f3e8fd7-2830-4721-b71a-f35080c8bb5e"
      },
      "source": [
        "l = [10,\"hello\",\"hi\"]\n",
        "if not l:\n",
        "  print(\"List is empty\")\n",
        "else:\n",
        "  print(\"List is not empty\")\n",
        "  "
      ],
      "execution_count": 5,
      "outputs": [
        {
          "output_type": "stream",
          "text": [
            "List is not empty\n"
          ],
          "name": "stdout"
        }
      ]
    },
    {
      "cell_type": "markdown",
      "metadata": {
        "id": "hkxqzjVXfdoy",
        "colab_type": "text"
      },
      "source": [
        "write a python program to clone or copy a list"
      ]
    },
    {
      "cell_type": "code",
      "metadata": {
        "id": "v8Wsj7hSgo8l",
        "colab_type": "code",
        "colab": {
          "base_uri": "https://localhost:8080/",
          "height": 51
        },
        "outputId": "6bbec581-2610-4f96-f211-f4a774c8584c"
      },
      "source": [
        "original_list = [10, 22, 44, 23, 4]  \n",
        "new_list = list(original_list)  \n",
        "print(original_list)  \n",
        "print(new_list) "
      ],
      "execution_count": 6,
      "outputs": [
        {
          "output_type": "stream",
          "text": [
            "[10, 22, 44, 23, 4]\n",
            "[10, 22, 44, 23, 4]\n"
          ],
          "name": "stdout"
        }
      ]
    },
    {
      "cell_type": "markdown",
      "metadata": {
        "id": "1tmrBCVuguj2",
        "colab_type": "text"
      },
      "source": [
        "write a python program to print a specified list after removing the 0th,4th and 5th elements"
      ]
    },
    {
      "cell_type": "code",
      "metadata": {
        "id": "ey_h-PAMiM9k",
        "colab_type": "code",
        "colab": {
          "base_uri": "https://localhost:8080/",
          "height": 85
        },
        "outputId": "df0e36b9-5bde-49b3-c136-187ca231ed63"
      },
      "source": [
        "color = [\"Red\", \"Black\", \"Green\", \"White\", \"Orange\"]\n",
        "print(\"\\nOriginal Color: \",color)\n",
        "del color[0]\n",
        "print(\"After removing the first color: \",color)\n",
        "print()"
      ],
      "execution_count": 7,
      "outputs": [
        {
          "output_type": "stream",
          "text": [
            "\n",
            "Original Color:  ['Red', 'Black', 'Green', 'White', 'Orange']\n",
            "After removing the first color:  ['Black', 'Green', 'White', 'Orange']\n",
            "\n"
          ],
          "name": "stdout"
        }
      ]
    },
    {
      "cell_type": "markdown",
      "metadata": {
        "id": "sHzY4wsciiof",
        "colab_type": "text"
      },
      "source": [
        "write a python program to print the numbers of a specified list after removing even number from it"
      ]
    },
    {
      "cell_type": "code",
      "metadata": {
        "id": "f4vnnCc0kUaG",
        "colab_type": "code",
        "colab": {
          "base_uri": "https://localhost:8080/",
          "height": 85
        },
        "outputId": "1f2dbfcf-e043-4766-cb19-52762cf3e5ab"
      },
      "source": [
        "list = [11, 22, 33, 44, 55]\n",
        "\n",
        "print(\"Original list:\")\n",
        "print (list)\n",
        "for i  in list:\n",
        "\tif(i%2 == 0):\n",
        "\t    list.remove(i)\n",
        "\n",
        "print(\"list after removing EVEN numbers:\")\n",
        "print(list)"
      ],
      "execution_count": 10,
      "outputs": [
        {
          "output_type": "stream",
          "text": [
            "Original list:\n",
            "[11, 22, 33, 44, 55]\n",
            "list after removing EVEN numbers:\n",
            "[11, 33, 55]\n"
          ],
          "name": "stdout"
        }
      ]
    },
    {
      "cell_type": "markdown",
      "metadata": {
        "id": "58vjHby8lEHo",
        "colab_type": "text"
      },
      "source": [
        "write a python program to shuffle and print a specified list"
      ]
    },
    {
      "cell_type": "code",
      "metadata": {
        "id": "us_AWzvhlvO3",
        "colab_type": "code",
        "colab": {
          "base_uri": "https://localhost:8080/",
          "height": 51
        },
        "outputId": "3acfd02d-ce76-4cf6-c702-78a6e361b565"
      },
      "source": [
        "import random\n",
        "\n",
        "list = [20, 19, 16, 5,28 ];\n",
        "random.shuffle(list)\n",
        "print(\"Reshuffled list :\",  list)\n",
        "\n",
        "random.shuffle(list)\n",
        "print(\"Reshuffled list :\",  list)"
      ],
      "execution_count": 16,
      "outputs": [
        {
          "output_type": "stream",
          "text": [
            "Reshuffled list : [28, 16, 20, 5, 19]\n",
            "Reshuffled list : [16, 28, 5, 19, 20]\n"
          ],
          "name": "stdout"
        }
      ]
    },
    {
      "cell_type": "markdown",
      "metadata": {
        "id": "VF1kYRyamaUa",
        "colab_type": "text"
      },
      "source": [
        "write a python program to get the difference between the two list"
      ]
    },
    {
      "cell_type": "code",
      "metadata": {
        "id": "vaURyelRnBB6",
        "colab_type": "code",
        "colab": {
          "base_uri": "https://localhost:8080/",
          "height": 231
        },
        "outputId": "42f8f159-f810-4ed2-fb67-5781b657b826"
      },
      "source": [
        "list1 = [1, 2, 4]\n",
        "list2 = [4, 5, 6]\n",
        "\n",
        "difference = set(list1).symmetric_difference(set(list2))\n",
        "list_difference = list(difference)\n",
        "\n",
        "print(list_difference)"
      ],
      "execution_count": 23,
      "outputs": [
        {
          "output_type": "error",
          "ename": "TypeError",
          "evalue": "ignored",
          "traceback": [
            "\u001b[0;31m---------------------------------------------------------------------------\u001b[0m",
            "\u001b[0;31mTypeError\u001b[0m                                 Traceback (most recent call last)",
            "\u001b[0;32m<ipython-input-23-dd08703a93ea>\u001b[0m in \u001b[0;36m<module>\u001b[0;34m()\u001b[0m\n\u001b[1;32m      3\u001b[0m \u001b[0;34m\u001b[0m\u001b[0m\n\u001b[1;32m      4\u001b[0m \u001b[0mdifference\u001b[0m \u001b[0;34m=\u001b[0m \u001b[0mset\u001b[0m\u001b[0;34m(\u001b[0m\u001b[0mlist1\u001b[0m\u001b[0;34m)\u001b[0m\u001b[0;34m.\u001b[0m\u001b[0msymmetric_difference\u001b[0m\u001b[0;34m(\u001b[0m\u001b[0mset\u001b[0m\u001b[0;34m(\u001b[0m\u001b[0mlist2\u001b[0m\u001b[0;34m)\u001b[0m\u001b[0;34m)\u001b[0m\u001b[0;34m\u001b[0m\u001b[0;34m\u001b[0m\u001b[0m\n\u001b[0;32m----> 5\u001b[0;31m \u001b[0mlist_difference\u001b[0m \u001b[0;34m=\u001b[0m \u001b[0mlist\u001b[0m\u001b[0;34m(\u001b[0m\u001b[0mdifference\u001b[0m\u001b[0;34m)\u001b[0m\u001b[0;34m\u001b[0m\u001b[0;34m\u001b[0m\u001b[0m\n\u001b[0m\u001b[1;32m      6\u001b[0m \u001b[0;34m\u001b[0m\u001b[0m\n\u001b[1;32m      7\u001b[0m \u001b[0mprint\u001b[0m\u001b[0;34m(\u001b[0m\u001b[0mlist_difference\u001b[0m\u001b[0;34m)\u001b[0m\u001b[0;34m\u001b[0m\u001b[0;34m\u001b[0m\u001b[0m\n",
            "\u001b[0;31mTypeError\u001b[0m: 'list' object is not callable"
          ]
        }
      ]
    }
  ]
}