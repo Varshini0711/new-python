{
  "nbformat": 4,
  "nbformat_minor": 0,
  "metadata": {
    "colab": {
      "name": "Assigment_13.ipynb",
      "provenance": [],
      "authorship_tag": "ABX9TyMgjx+3gTbJ7JyP2HQ3g/fh",
      "include_colab_link": true
    },
    "kernelspec": {
      "name": "python3",
      "display_name": "Python 3"
    }
  },
  "cells": [
    {
      "cell_type": "markdown",
      "metadata": {
        "id": "view-in-github",
        "colab_type": "text"
      },
      "source": [
        "<a href=\"https://colab.research.google.com/github/Varshini0711/new-python/blob/master/Assigment_13.ipynb\" target=\"_parent\"><img src=\"https://colab.research.google.com/assets/colab-badge.svg\" alt=\"Open In Colab\"/></a>"
      ]
    },
    {
      "cell_type": "markdown",
      "metadata": {
        "id": "DlUXuRpczGjw",
        "colab_type": "text"
      },
      "source": [
        "write a python program to sum all the items in a list"
      ]
    },
    {
      "cell_type": "code",
      "metadata": {
        "id": "rmzsvr_BzW3a",
        "colab_type": "code",
        "colab": {
          "base_uri": "https://localhost:8080/",
          "height": 34
        },
        "outputId": "912f235f-8fb0-4bdc-9dd8-b5b8db3a54fd"
      },
      "source": [
        "def sum_list(items):\n",
        "    sum_numbers = 0\n",
        "    for x in items:\n",
        "        sum_numbers += x\n",
        "    return sum_numbers\n",
        "print(sum_list([1,2,-8]))"
      ],
      "execution_count": 1,
      "outputs": [
        {
          "output_type": "stream",
          "text": [
            "-5\n"
          ],
          "name": "stdout"
        }
      ]
    },
    {
      "cell_type": "markdown",
      "metadata": {
        "id": "GXF7qlJW0HSQ",
        "colab_type": "text"
      },
      "source": [
        "write a python program to create a list of empty dictionaries"
      ]
    },
    {
      "cell_type": "code",
      "metadata": {
        "id": "hutnSVXF0Zzw",
        "colab_type": "code",
        "colab": {
          "base_uri": "https://localhost:8080/",
          "height": 34
        },
        "outputId": "c67ecdb1-95f7-447a-f025-5c4cdc64dac5"
      },
      "source": [
        "n = 5\n",
        "l = [{} for _ in range(n)]\n",
        "print(l)\n"
      ],
      "execution_count": 2,
      "outputs": [
        {
          "output_type": "stream",
          "text": [
            "[{}, {}, {}, {}, {}]\n"
          ],
          "name": "stdout"
        }
      ]
    },
    {
      "cell_type": "markdown",
      "metadata": {
        "id": "MyzNlRyR1YTq",
        "colab_type": "text"
      },
      "source": [
        "write a python program to access dictionary keys element by index"
      ]
    },
    {
      "cell_type": "code",
      "metadata": {
        "id": "aEAClvOG1v-H",
        "colab_type": "code",
        "colab": {
          "base_uri": "https://localhost:8080/",
          "height": 34
        },
        "outputId": "9da68b77-7f89-4921-c4cc-507ad6664325"
      },
      "source": [
        "num = {'physics': 90, 'math': 100, 'chemistry': 86}\n",
        "print(list(num)[0])\n"
      ],
      "execution_count": 3,
      "outputs": [
        {
          "output_type": "stream",
          "text": [
            "physics\n"
          ],
          "name": "stdout"
        }
      ]
    },
    {
      "cell_type": "markdown",
      "metadata": {
        "id": "OTDaCH3w3JFh",
        "colab_type": "text"
      },
      "source": [
        "write a python program to iterate over dictionaries using for loops "
      ]
    },
    {
      "cell_type": "code",
      "metadata": {
        "id": "qFbKRt5g3Z1A",
        "colab_type": "code",
        "colab": {
          "base_uri": "https://localhost:8080/",
          "height": 68
        },
        "outputId": "be7d8988-275e-427b-e218-1831625cddbc"
      },
      "source": [
        "d = {'x': 10, 'y': 20, 'z': 30} \n",
        "for dict_key, dict_value in d.items():\n",
        "    print(dict_key,'->',dict_value)"
      ],
      "execution_count": 4,
      "outputs": [
        {
          "output_type": "stream",
          "text": [
            "x -> 10\n",
            "y -> 20\n",
            "z -> 30\n"
          ],
          "name": "stdout"
        }
      ]
    },
    {
      "cell_type": "markdown",
      "metadata": {
        "id": "H2UGiKwd3zIm",
        "colab_type": "text"
      },
      "source": [
        "write a python program to sum all the items in a dictionary"
      ]
    },
    {
      "cell_type": "code",
      "metadata": {
        "id": "6wKZkBD-4Zfl",
        "colab_type": "code",
        "colab": {
          "base_uri": "https://localhost:8080/",
          "height": 34
        },
        "outputId": "34239421-c61f-41b6-f74c-f4933ee685b1"
      },
      "source": [
        "def returnSum(dict): \n",
        "      \n",
        "     sum = 0\n",
        "     for i in dict.values(): \n",
        "           sum = sum + i \n",
        "       \n",
        "     return sum\n",
        "   \n",
        "dict = {'a': 355, 'b':228, 'c':300} \n",
        "print(\"Sum :\", returnSum(dict)) "
      ],
      "execution_count": 6,
      "outputs": [
        {
          "output_type": "stream",
          "text": [
            "Sum : 883\n"
          ],
          "name": "stdout"
        }
      ]
    },
    {
      "cell_type": "markdown",
      "metadata": {
        "id": "uWd6s4A84mxq",
        "colab_type": "text"
      },
      "source": [
        "write a python script to concatenate following dictionaries to create a new one"
      ]
    },
    {
      "cell_type": "code",
      "metadata": {
        "id": "f8q1oqXZ5BXA",
        "colab_type": "code",
        "colab": {
          "base_uri": "https://localhost:8080/",
          "height": 34
        },
        "outputId": "40123bcb-0720-4e69-c667-3cb2c750e207"
      },
      "source": [
        "dic1={1:10, 2:20}\n",
        "dic2={3:30, 4:40}\n",
        "dic3={5:50,6:60}\n",
        "dic4 = {}\n",
        "for d in (dic1, dic2, dic3): dic4.update(d)\n",
        "print(dic4)"
      ],
      "execution_count": 7,
      "outputs": [
        {
          "output_type": "stream",
          "text": [
            "{1: 10, 2: 20, 3: 30, 4: 40, 5: 50, 6: 60}\n"
          ],
          "name": "stdout"
        }
      ]
    }
  ]
}