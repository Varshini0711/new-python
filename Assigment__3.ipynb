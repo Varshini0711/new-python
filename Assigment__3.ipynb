{
  "nbformat": 4,
  "nbformat_minor": 0,
  "metadata": {
    "colab": {
      "name": "Assigment _3.ipynb",
      "provenance": [],
      "authorship_tag": "ABX9TyNT5jkUhmk2jMvMet5a/BXA",
      "include_colab_link": true
    },
    "kernelspec": {
      "name": "python3",
      "display_name": "Python 3"
    }
  },
  "cells": [
    {
      "cell_type": "markdown",
      "metadata": {
        "id": "view-in-github",
        "colab_type": "text"
      },
      "source": [
        "<a href=\"https://colab.research.google.com/github/Varshini0711/new-python/blob/master/Assigment__3.ipynb\" target=\"_parent\"><img src=\"https://colab.research.google.com/assets/colab-badge.svg\" alt=\"Open In Colab\"/></a>"
      ]
    },
    {
      "cell_type": "code",
      "metadata": {
        "id": "eGXVQ4VG0r53",
        "colab_type": "code",
        "colab": {}
      },
      "source": [
        ""
      ],
      "execution_count": null,
      "outputs": []
    },
    {
      "cell_type": "markdown",
      "metadata": {
        "id": "dEUrj9EI4dxV",
        "colab_type": "text"
      },
      "source": [
        "Take two inputs user and check whether they are equal or not using python"
      ]
    },
    {
      "cell_type": "code",
      "metadata": {
        "id": "-Kc2O-KxfnnB",
        "colab_type": "code",
        "colab": {
          "base_uri": "https://localhost:8080/",
          "height": 68
        },
        "outputId": "81ed2cdf-2ff7-4070-d6dd-fb663613dc39"
      },
      "source": [
        "a=int(input(\"enter the number\"))\n",
        "b=int(input(\"enter the number\"))\n",
        "if a==b:\n",
        " print(\"equal\")\n",
        "else:\n",
        "   print(\"not equal\")"
      ],
      "execution_count": 10,
      "outputs": [
        {
          "output_type": "stream",
          "text": [
            "enter the number3\n",
            "enter the number28\n",
            "not equal\n"
          ],
          "name": "stdout"
        }
      ]
    },
    {
      "cell_type": "markdown",
      "metadata": {
        "id": "s8vBq9BMmRft",
        "colab_type": "text"
      },
      "source": [
        "take 3 inputs from user and check:all are equal any of two are equal"
      ]
    },
    {
      "cell_type": "code",
      "metadata": {
        "id": "q25hhS9hmlmK",
        "colab_type": "code",
        "colab": {
          "base_uri": "https://localhost:8080/",
          "height": 85
        },
        "outputId": "6cc8dbc1-fbc5-4f1d-9bec-3f0feef80e54"
      },
      "source": [
        "a=int(input(\"enter the number\"))\n",
        "b=int(input(\"enter the number\"))\n",
        "c=int(input(\"enter tne number\"))\n",
        "if a==b and b==c and c==a:\n",
        "  print(\"all are equal\")\n",
        "elif a==b and b==c and c==a:\n",
        "  print(\"any two are equal\")\n",
        "else:\n",
        "  print(\"none are same\")"
      ],
      "execution_count": 11,
      "outputs": [
        {
          "output_type": "stream",
          "text": [
            "enter the number12\n",
            "enter the number45\n",
            "enter tne number12\n",
            "none are same\n"
          ],
          "name": "stdout"
        }
      ]
    },
    {
      "cell_type": "markdown",
      "metadata": {
        "id": "HUcImpF9oCb_",
        "colab_type": "text"
      },
      "source": [
        "take two number and check whether the um is greater than 5,less than 5 or equal to 5"
      ]
    },
    {
      "cell_type": "code",
      "metadata": {
        "id": "ZqidUGjdovt4",
        "colab_type": "code",
        "colab": {
          "base_uri": "https://localhost:8080/",
          "height": 68
        },
        "outputId": "e0436ba6-2571-472a-8d1d-910cc10e24e2"
      },
      "source": [
        "a=int(input(\"enter a number\"))\n",
        "b=int(input(\"enter a number\"))\n",
        "sum=a+b\n",
        "if sum>5:\n",
        "  print(\"sum is greater than 5\")\n",
        "elif sum==5:\n",
        "  print(\"equal to 5\")\n",
        "elif sum<5:\n",
        "  print(\"sum is less than 5\")\n",
        "else:\n",
        "  print(\"invalid\")"
      ],
      "execution_count": 12,
      "outputs": [
        {
          "output_type": "stream",
          "text": [
            "enter a number14\n",
            "enter a number4\n",
            "sum is greater than 5\n"
          ],
          "name": "stdout"
        }
      ]
    },
    {
      "cell_type": "markdown",
      "metadata": {
        "id": "i8ajqUv9p-Iw",
        "colab_type": "text"
      },
      "source": [
        "suppose passing marks of a subject is 35.take input of marks from user and check whether it is greater than passing marks or not"
      ]
    },
    {
      "cell_type": "code",
      "metadata": {
        "id": "R3UkgnEXqZRD",
        "colab_type": "code",
        "colab": {
          "base_uri": "https://localhost:8080/",
          "height": 51
        },
        "outputId": "3a83a351-6be2-4968-c949-14ecfbab3825"
      },
      "source": [
        "marks=int(input(\"enter the marks\"))\n",
        "if marks>35:\n",
        "  print(\"greater than passing marks\")\n",
        "else:\n",
        "  print(\"fail\")"
      ],
      "execution_count": 13,
      "outputs": [
        {
          "output_type": "stream",
          "text": [
            "enter the marks45\n",
            "greater than passing marks\n"
          ],
          "name": "stdout"
        }
      ]
    },
    {
      "cell_type": "markdown",
      "metadata": {
        "id": "m9PQFNutrX3N",
        "colab_type": "text"
      },
      "source": [
        "write a python function to find the max of three numbers"
      ]
    },
    {
      "cell_type": "code",
      "metadata": {
        "id": "WSuFbAdTrosa",
        "colab_type": "code",
        "colab": {
          "base_uri": "https://localhost:8080/",
          "height": 85
        },
        "outputId": "f2eb4be9-3711-4509-a971-95be39831dfc"
      },
      "source": [
        "num1=float(input(\"enter the first number:\"))\n",
        "num2=float(input(\"enter the second number:\"))\n",
        "num3=float(input(\"enter the third number\"))\n",
        "if(num1>num2) and(num1>num3):\n",
        "  print(\"num1 is largest\")\n",
        "elif(num2>num1) and(num2>num3):\n",
        "  print(\"num2 is largest\")\n",
        "else:\n",
        "  print(\"num3 is largest\")\n",
        "\n"
      ],
      "execution_count": 14,
      "outputs": [
        {
          "output_type": "stream",
          "text": [
            "enter the first number:13\n",
            "enter the second number:22\n",
            "enter the third number28\n",
            "num3 is largest\n"
          ],
          "name": "stdout"
        }
      ]
    }
  ]
}