{
  "nbformat": 4,
  "nbformat_minor": 0,
  "metadata": {
    "colab": {
      "name": "Assigment_12.ipynb",
      "provenance": [],
      "authorship_tag": "ABX9TyO8ohnTGMPNhVmw1r/spoc7",
      "include_colab_link": true
    },
    "kernelspec": {
      "name": "python3",
      "display_name": "Python 3"
    }
  },
  "cells": [
    {
      "cell_type": "markdown",
      "metadata": {
        "id": "view-in-github",
        "colab_type": "text"
      },
      "source": [
        "<a href=\"https://colab.research.google.com/github/Varshini0711/new-python/blob/master/Assigment_12.ipynb\" target=\"_parent\"><img src=\"https://colab.research.google.com/assets/colab-badge.svg\" alt=\"Open In Colab\"/></a>"
      ]
    },
    {
      "cell_type": "markdown",
      "metadata": {
        "id": "b1o8TmluwqsT",
        "colab_type": "text"
      },
      "source": [
        "write a python program to create a tuple"
      ]
    },
    {
      "cell_type": "code",
      "metadata": {
        "id": "stOzymiUw29n",
        "colab_type": "code",
        "colab": {
          "base_uri": "https://localhost:8080/",
          "height": 34
        },
        "outputId": "49dcf762-e995-41f6-8272-1df4f46a4bc3"
      },
      "source": [
        "my_tuple = (1, \"Hello\", 3.4)\n",
        "print(my_tuple)"
      ],
      "execution_count": 1,
      "outputs": [
        {
          "output_type": "stream",
          "text": [
            "(1, 'Hello', 3.4)\n"
          ],
          "name": "stdout"
        }
      ]
    },
    {
      "cell_type": "markdown",
      "metadata": {
        "id": "iqQnJFeyxJRS",
        "colab_type": "text"
      },
      "source": [
        "write a python program to create a tuple eith different data types"
      ]
    },
    {
      "cell_type": "code",
      "metadata": {
        "id": "uAD5zvXkx7yC",
        "colab_type": "code",
        "colab": {
          "base_uri": "https://localhost:8080/",
          "height": 34
        },
        "outputId": "dd32a66a-a104-479b-a169-0e914e9fe1c5"
      },
      "source": [
        "tuplex = (\"tuple\", False, 3.2, 1)\n",
        "print(tuplex)"
      ],
      "execution_count": 2,
      "outputs": [
        {
          "output_type": "stream",
          "text": [
            "('tuple', False, 3.2, 1)\n"
          ],
          "name": "stdout"
        }
      ]
    },
    {
      "cell_type": "markdown",
      "metadata": {
        "id": "vcPWtkU-yAmo",
        "colab_type": "text"
      },
      "source": [
        "write a python program toconverta tuple to a string"
      ]
    },
    {
      "cell_type": "code",
      "metadata": {
        "id": "tPmmhvSFyXHk",
        "colab_type": "code",
        "colab": {
          "base_uri": "https://localhost:8080/",
          "height": 34
        },
        "outputId": "01ed9d0f-ac41-4877-9876-5fef123f68e5"
      },
      "source": [
        "tup = ('p', 'y', 't', 'h', 'o', 'n')\n",
        "str =  ''.join(tup)\n",
        "print(str)"
      ],
      "execution_count": 3,
      "outputs": [
        {
          "output_type": "stream",
          "text": [
            "python\n"
          ],
          "name": "stdout"
        }
      ]
    },
    {
      "cell_type": "markdown",
      "metadata": {
        "id": "zB2C4P0zyphW",
        "colab_type": "text"
      },
      "source": [
        "write a python program to slice a tuple"
      ]
    },
    {
      "cell_type": "code",
      "metadata": {
        "id": "KnlfbE_nzaI3",
        "colab_type": "code",
        "colab": {
          "base_uri": "https://localhost:8080/",
          "height": 34
        },
        "outputId": "0f993d03-554f-4b3c-d684-c17abce7411a"
      },
      "source": [
        "tuplex = (2, 4, 3, 5, 4, 6, 7, 8, 6, 1)\n",
        "slice = tuplex[3:5]\n",
        "print(slice)"
      ],
      "execution_count": 5,
      "outputs": [
        {
          "output_type": "stream",
          "text": [
            "(5, 4)\n"
          ],
          "name": "stdout"
        }
      ]
    },
    {
      "cell_type": "code",
      "metadata": {
        "id": "--1W21mXzqQE",
        "colab_type": "code",
        "colab": {
          "base_uri": "https://localhost:8080/",
          "height": 51
        },
        "outputId": "21d463d0-e0d7-4866-8fcc-ecce3ece4b0f"
      },
      "source": [
        "tuplex = tuple(\"HELLO WORLD\")\n",
        "print(tuplex)\n",
        "_slice = tuplex[2:9:2]\n",
        "print(_slice)"
      ],
      "execution_count": 6,
      "outputs": [
        {
          "output_type": "stream",
          "text": [
            "('H', 'E', 'L', 'L', 'O', ' ', 'W', 'O', 'R', 'L', 'D')\n",
            "('L', 'O', 'W', 'R')\n"
          ],
          "name": "stdout"
        }
      ]
    },
    {
      "cell_type": "markdown",
      "metadata": {
        "id": "kH_NiO84z76K",
        "colab_type": "text"
      },
      "source": [
        "write a python program to find the length of a tuple"
      ]
    },
    {
      "cell_type": "code",
      "metadata": {
        "id": "W_CM9ts-0JGz",
        "colab_type": "code",
        "colab": {
          "base_uri": "https://localhost:8080/",
          "height": 51
        },
        "outputId": "003a57b4-defe-4248-e300-bff90f0ab741"
      },
      "source": [
        "tuplex = tuple(\"Gitamuniversty\")\n",
        "print(tuplex)\n",
        "print(len(tuplex))"
      ],
      "execution_count": 7,
      "outputs": [
        {
          "output_type": "stream",
          "text": [
            "('G', 'i', 't', 'a', 'm', 'u', 'n', 'i', 'v', 'e', 'r', 's', 't', 'y')\n",
            "14\n"
          ],
          "name": "stdout"
        }
      ]
    },
    {
      "cell_type": "markdown",
      "metadata": {
        "id": "dMfeXim_0jpM",
        "colab_type": "text"
      },
      "source": [
        "write a python program to reverse a tuple"
      ]
    },
    {
      "cell_type": "code",
      "metadata": {
        "id": "3BQZTOTB0t4g",
        "colab_type": "code",
        "colab": {
          "base_uri": "https://localhost:8080/",
          "height": 51
        },
        "outputId": "77b4c7e3-fff5-45f7-923d-a0f0dab19327"
      },
      "source": [
        "x = (\"pythonprogram\")\n",
        "y = reversed(x)\n",
        "print(tuple(y))\n",
        "x = (14, 7, 17, 28)\n",
        "y = reversed(x)\n",
        "print(tuple(y))"
      ],
      "execution_count": 10,
      "outputs": [
        {
          "output_type": "stream",
          "text": [
            "('m', 'a', 'r', 'g', 'o', 'r', 'p', 'n', 'o', 'h', 't', 'y', 'p')\n",
            "(28, 17, 7, 14)\n"
          ],
          "name": "stdout"
        }
      ]
    },
    {
      "cell_type": "markdown",
      "metadata": {
        "id": "MbPPm7AD1gfK",
        "colab_type": "text"
      },
      "source": [
        "write a python program to convert a list to a tuple"
      ]
    },
    {
      "cell_type": "code",
      "metadata": {
        "id": "8wi7DF5R15hV",
        "colab_type": "code",
        "colab": {
          "base_uri": "https://localhost:8080/",
          "height": 51
        },
        "outputId": "b3b6b7ac-714f-4b7b-e4d6-7c46be426994"
      },
      "source": [
        "listx = [5, 10, 7, 4, 15, 13, 28, 14, 24]\n",
        "print(listx)\n",
        "tuplex = tuple(listx)\n",
        "print(tuplex)"
      ],
      "execution_count": 11,
      "outputs": [
        {
          "output_type": "stream",
          "text": [
            "[5, 10, 7, 4, 15, 13, 28, 14, 24]\n",
            "(5, 10, 7, 4, 15, 13, 28, 14, 24)\n"
          ],
          "name": "stdout"
        }
      ]
    }
  ]
}