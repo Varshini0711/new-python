{
  "nbformat": 4,
  "nbformat_minor": 0,
  "metadata": {
    "colab": {
      "name": "New_python.ipynb",
      "provenance": [],
      "authorship_tag": "ABX9TyPjgWUYB2i7OhXvKDTi0Lav",
      "include_colab_link": true
    },
    "kernelspec": {
      "name": "python3",
      "display_name": "Python 3"
    }
  },
  "cells": [
    {
      "cell_type": "markdown",
      "metadata": {
        "id": "view-in-github",
        "colab_type": "text"
      },
      "source": [
        "<a href=\"https://colab.research.google.com/github/Varshini0711/new-python/blob/master/New_python.ipynb\" target=\"_parent\"><img src=\"https://colab.research.google.com/assets/colab-badge.svg\" alt=\"Open In Colab\"/></a>"
      ]
    },
    {
      "cell_type": "markdown",
      "metadata": {
        "id": "cWUh_Nra2xSt",
        "colab_type": "text"
      },
      "source": [
        "+ - * \\ % ** //"
      ]
    },
    {
      "cell_type": "code",
      "metadata": {
        "id": "iRTVX2zt29-9",
        "colab_type": "code",
        "colab": {
          "base_uri": "https://localhost:8080/",
          "height": 34
        },
        "outputId": "e19274cc-d5c6-4d49-ef67-38377ae86dcc"
      },
      "source": [
        "a=9\n",
        "b=5\n",
        "print(a+b)"
      ],
      "execution_count": null,
      "outputs": [
        {
          "output_type": "stream",
          "text": [
            "14\n"
          ],
          "name": "stdout"
        }
      ]
    },
    {
      "cell_type": "code",
      "metadata": {
        "id": "4Af0xW393uhh",
        "colab_type": "code",
        "colab": {
          "base_uri": "https://localhost:8080/",
          "height": 34
        },
        "outputId": "bc985760-8f43-4cbd-bf8d-219da40aec2b"
      },
      "source": [
        "a=10\n",
        "b=15\n",
        "print(a-b)"
      ],
      "execution_count": null,
      "outputs": [
        {
          "output_type": "stream",
          "text": [
            "-5\n"
          ],
          "name": "stdout"
        }
      ]
    },
    {
      "cell_type": "code",
      "metadata": {
        "id": "5K4udi8n6hct",
        "colab_type": "code",
        "colab": {
          "base_uri": "https://localhost:8080/",
          "height": 34
        },
        "outputId": "5f98556a-f277-4bb2-aeaf-a84d3f42e4dc"
      },
      "source": [
        "a=14\n",
        "b=20\n",
        "print(a*b)"
      ],
      "execution_count": null,
      "outputs": [
        {
          "output_type": "stream",
          "text": [
            "280\n"
          ],
          "name": "stdout"
        }
      ]
    },
    {
      "cell_type": "code",
      "metadata": {
        "id": "XErrCay36trC",
        "colab_type": "code",
        "colab": {
          "base_uri": "https://localhost:8080/",
          "height": 34
        },
        "outputId": "a0fdd001-8eac-4528-f40e-ce8f14972430"
      },
      "source": [
        "a=24\n",
        "b=15\n",
        "print(a/b)"
      ],
      "execution_count": null,
      "outputs": [
        {
          "output_type": "stream",
          "text": [
            "1.6\n"
          ],
          "name": "stdout"
        }
      ]
    },
    {
      "cell_type": "code",
      "metadata": {
        "id": "7KSB7HIT7S8q",
        "colab_type": "code",
        "colab": {
          "base_uri": "https://localhost:8080/",
          "height": 34
        },
        "outputId": "8a6ee60d-0190-4bef-ebf2-7406c9d1317e"
      },
      "source": [
        "a=20\n",
        "b=45\n",
        "print(a%b)"
      ],
      "execution_count": null,
      "outputs": [
        {
          "output_type": "stream",
          "text": [
            "20\n"
          ],
          "name": "stdout"
        }
      ]
    },
    {
      "cell_type": "code",
      "metadata": {
        "id": "ZjelJ_-c7k-F",
        "colab_type": "code",
        "colab": {
          "base_uri": "https://localhost:8080/",
          "height": 34
        },
        "outputId": "1856c83c-71be-4ef4-a70b-7ae69157c208"
      },
      "source": [
        "a=28\n",
        "b=7\n",
        "print(a**b)"
      ],
      "execution_count": null,
      "outputs": [
        {
          "output_type": "stream",
          "text": [
            "13492928512\n"
          ],
          "name": "stdout"
        }
      ]
    },
    {
      "cell_type": "code",
      "metadata": {
        "id": "lEHp3e_a71GX",
        "colab_type": "code",
        "colab": {
          "base_uri": "https://localhost:8080/",
          "height": 34
        },
        "outputId": "23bc77e4-c0fd-4ea1-a60c-1b7492efea2c"
      },
      "source": [
        "a=14\n",
        "b=7\n",
        "print(a//b)"
      ],
      "execution_count": null,
      "outputs": [
        {
          "output_type": "stream",
          "text": [
            "2\n"
          ],
          "name": "stdout"
        }
      ]
    },
    {
      "cell_type": "markdown",
      "metadata": {
        "id": "hVDSqF-77_DO",
        "colab_type": "text"
      },
      "source": [
        " write a python program to calculate simple interest"
      ]
    },
    {
      "cell_type": "code",
      "metadata": {
        "id": "4tM97MlK9xB-",
        "colab_type": "code",
        "colab": {
          "base_uri": "https://localhost:8080/",
          "height": 34
        },
        "outputId": "0e80e3fc-7718-4a9d-9033-1789f2640d6b"
      },
      "source": [
        "P=1000\n",
        "R=1\n",
        "T=2\n",
        "SI=(P*R*T)/100\n",
        "print(\"simple interest is\",SI)\n"
      ],
      "execution_count": null,
      "outputs": [
        {
          "output_type": "stream",
          "text": [
            "simple interest is 20.0\n"
          ],
          "name": "stdout"
        }
      ]
    },
    {
      "cell_type": "markdown",
      "metadata": {
        "id": "-tcHyzyT-buh",
        "colab_type": "text"
      },
      "source": [
        "write a python progam to calculate area of a triangle"
      ]
    },
    {
      "cell_type": "code",
      "metadata": {
        "id": "9dJPW3_R8fVg",
        "colab_type": "code",
        "colab": {
          "base_uri": "https://localhost:8080/",
          "height": 85
        },
        "outputId": "653deb1d-fc17-41d3-fe51-059214094aaa"
      },
      "source": [
        "a=5\n",
        "b=8\n",
        "c=9\n",
        "a=float(input('Enter first side:'))\n",
        "b=float(input('Enter second side:'))\n",
        "c=float(input('Enter third side:'))\n",
        "s=(a+b+c)/2\n",
        "area=(s*(s-a)*(s-b)*(s-c))**0.5\n",
        "print('the area of the triangle is %0.2f'%area)"
      ],
      "execution_count": null,
      "outputs": [
        {
          "output_type": "stream",
          "text": [
            "Enter first side:5\n",
            "Enter second side:8\n",
            "Enter third side:9\n",
            "the area of the triangle is 19.90\n"
          ],
          "name": "stdout"
        }
      ]
    },
    {
      "cell_type": "markdown",
      "metadata": {
        "id": "CoCYb5vfA0hy",
        "colab_type": "text"
      },
      "source": [
        "write a python program to calculate area of rectangle"
      ]
    },
    {
      "cell_type": "code",
      "metadata": {
        "id": "M9M7-fD9BE29",
        "colab_type": "code",
        "colab": {
          "base_uri": "https://localhost:8080/",
          "height": 102
        },
        "outputId": "11ca1512-df7d-4116-b930-221d11181be5"
      },
      "source": [
        "width=float(input('please enter the width of a rectangle:'))\n",
        "height=float(input('please enter the height of a rectangle:'))\n",
        "area=width*height\n",
        "perimeter=2*(width+height)\n",
        "print(\"\\n area of a rectangle is:%.2f\"%area)\n",
        "print(\"perimeter of rectangleis:%.2f\"%perimeter)"
      ],
      "execution_count": null,
      "outputs": [
        {
          "output_type": "stream",
          "text": [
            "please enter the width of a rectangle:8\n",
            "please enter the height of a rectangle:10\n",
            "\n",
            " area of a rectangle is:80.00\n",
            "perimeter of rectangleis:36.00\n"
          ],
          "name": "stdout"
        }
      ]
    },
    {
      "cell_type": "markdown",
      "metadata": {
        "id": "MLRcZjjmDFYU",
        "colab_type": "text"
      },
      "source": [
        "write a python program to calculate perimeter of a suquare"
      ]
    },
    {
      "cell_type": "code",
      "metadata": {
        "id": "iTnFF2ZyDUZe",
        "colab_type": "code",
        "colab": {
          "base_uri": "https://localhost:8080/",
          "height": 51
        },
        "outputId": "1645d615-9139-4579-fc09-6736eebd62b6"
      },
      "source": [
        "s=int(input(\"side:\"))\n",
        "perimeter=4*s\n",
        "print(\"perimeter of rectangle:\",perimeter)"
      ],
      "execution_count": null,
      "outputs": [
        {
          "output_type": "stream",
          "text": [
            "side:5\n",
            "perimeter of rectangle: 20\n"
          ],
          "name": "stdout"
        }
      ]
    },
    {
      "cell_type": "markdown",
      "metadata": {
        "id": "m8nvqU4AEauQ",
        "colab_type": "text"
      },
      "source": [
        "write a python program to calculate circumference of a circle"
      ]
    },
    {
      "cell_type": "code",
      "metadata": {
        "id": "YjaJZRwEEvcg",
        "colab_type": "code",
        "colab": {
          "base_uri": "https://localhost:8080/",
          "height": 51
        },
        "outputId": "794218c4-e7b1-4f7d-ef31-aa5a3edb0d85"
      },
      "source": [
        "radius=float(input(\"enter the radius of the circle:\"))\n",
        "circumference=2*3.14*radius\n",
        "print(\"circumference of the circle is:%.2f\"% circumference)"
      ],
      "execution_count": null,
      "outputs": [
        {
          "output_type": "stream",
          "text": [
            "enter the radius of the circle:5\n",
            "circumference of the circle is:31.40\n"
          ],
          "name": "stdout"
        }
      ]
    },
    {
      "cell_type": "markdown",
      "metadata": {
        "id": "G5I08Q7EGNmH",
        "colab_type": "text"
      },
      "source": [
        "write a python program to swap two numbers"
      ]
    },
    {
      "cell_type": "code",
      "metadata": {
        "id": "GjD5oEujGhv_",
        "colab_type": "code",
        "colab": {
          "base_uri": "https://localhost:8080/",
          "height": 85
        },
        "outputId": "63cae069-6472-49e9-ad1a-683d830949de"
      },
      "source": [
        "num1=input('enter first number:')\n",
        "num2=input('enter second number:')\n",
        "print(\"value of num1 before swapping:\",num1)\n",
        "print(\"value 0f num2 before swapping:\",num2)"
      ],
      "execution_count": null,
      "outputs": [
        {
          "output_type": "stream",
          "text": [
            "enter first number:101\n",
            "enter second number:28\n",
            "value of num1 before swapping: 101\n",
            "value 0f num2 before swapping: 28\n"
          ],
          "name": "stdout"
        }
      ]
    },
    {
      "cell_type": "markdown",
      "metadata": {
        "id": "OGVyoVogHe-D",
        "colab_type": "text"
      },
      "source": [
        "write a python program to calculate to temperature in celsius to fahrenheit"
      ]
    },
    {
      "cell_type": "code",
      "metadata": {
        "id": "7xOhssgqH3fn",
        "colab_type": "code",
        "colab": {
          "base_uri": "https://localhost:8080/",
          "height": 34
        },
        "outputId": "2defde09-38be-4a4a-e21a-30173417f92e"
      },
      "source": [
        "celsius=37.5\n",
        "fahrenheit=(celsius*1.8)+32\n",
        "print('0.%1f degree celsius is equal to%0.1f degree fahrenheit'%(celsius,fahrenheit))"
      ],
      "execution_count": null,
      "outputs": [
        {
          "output_type": "stream",
          "text": [
            "0.37.500000 degree celsius is equal to99.5 degree fahrenheit\n"
          ],
          "name": "stdout"
        }
      ]
    }
  ]
}