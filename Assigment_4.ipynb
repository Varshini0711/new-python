{
  "nbformat": 4,
  "nbformat_minor": 0,
  "metadata": {
    "colab": {
      "name": "Assigment_4.ipynb",
      "provenance": [],
      "authorship_tag": "ABX9TyPS74mcbYZrn+QL5X2clCIp",
      "include_colab_link": true
    },
    "kernelspec": {
      "name": "python3",
      "display_name": "Python 3"
    }
  },
  "cells": [
    {
      "cell_type": "markdown",
      "metadata": {
        "id": "view-in-github",
        "colab_type": "text"
      },
      "source": [
        "<a href=\"https://colab.research.google.com/github/Varshini0711/new-python/blob/master/Assigment_4.ipynb\" target=\"_parent\"><img src=\"https://colab.research.google.com/assets/colab-badge.svg\" alt=\"Open In Colab\"/></a>"
      ]
    },
    {
      "cell_type": "markdown",
      "metadata": {
        "id": "z8OWE_urp2_z",
        "colab_type": "text"
      },
      "source": [
        "write a python function to find the max of three numbers"
      ]
    },
    {
      "cell_type": "code",
      "metadata": {
        "id": "fCUvlwafqHkU",
        "colab_type": "code",
        "colab": {
          "base_uri": "https://localhost:8080/",
          "height": 85
        },
        "outputId": "81e6cdca-e2e8-4ac4-eba8-381d0eb41fc0"
      },
      "source": [
        "x=int(input(\"enter the num\"))\n",
        "y=int(input(\"enter the num\"))\n",
        "z=int(input(\"enter the num\"))\n",
        "if(x>=y) and (x>=z):\n",
        "  print(\"x is largest\")\n",
        "elif(y>=z) and (y>=x):\n",
        "  print(\"y is largest\")\n",
        "else:\n",
        "  print(\"z is largest\")\n",
        "  \n",
        "\n"
      ],
      "execution_count": 1,
      "outputs": [
        {
          "output_type": "stream",
          "text": [
            "enter the num28\n",
            "enter the num7\n",
            "enter the num14\n",
            "x is largest\n"
          ],
          "name": "stdout"
        }
      ]
    },
    {
      "cell_type": "markdown",
      "metadata": {
        "id": "5U0O8yRhrQPu",
        "colab_type": "text"
      },
      "source": [
        "write a python program to reverse a string"
      ]
    },
    {
      "cell_type": "code",
      "metadata": {
        "id": "OO09dLSurckj",
        "colab_type": "code",
        "colab": {
          "base_uri": "https://localhost:8080/",
          "height": 34
        },
        "outputId": "8c55016d-9f95-4111-da09-bd42cdd83cdb"
      },
      "source": [
        "def string_reverse(str1):\n",
        "\n",
        "  rstr1=''\n",
        "  index=len(str1)\n",
        "  while index>0:\n",
        "    rstr1+=str1[index-1]\n",
        "    index=index-1\n",
        "  return rstr1\n",
        "print(string_reverse('12345dcba'))"
      ],
      "execution_count": 4,
      "outputs": [
        {
          "output_type": "stream",
          "text": [
            "abcd54321\n"
          ],
          "name": "stdout"
        }
      ]
    },
    {
      "cell_type": "markdown",
      "metadata": {
        "id": "Yzdv55sjtKjp",
        "colab_type": "text"
      },
      "source": [
        "write a python program to check whether the number is prime or not"
      ]
    },
    {
      "cell_type": "code",
      "metadata": {
        "id": "-sPPoB7iucAN",
        "colab_type": "code",
        "colab": {
          "base_uri": "https://localhost:8080/",
          "height": 51
        },
        "outputId": "e20b09fb-e56a-4d0d-803e-225d2122e15a"
      },
      "source": [
        "num=int(input(\"enter the number:\"))\n",
        "if num> 1:\n",
        "  for i in range(2,num//2):\n",
        "   if (num % i)==0:\n",
        "    print(num,\"is not a prime number\")\n",
        "    break\n",
        "   else:\n",
        "    print(num,\"is  a prime numumber\")\n",
        "     "
      ],
      "execution_count": 13,
      "outputs": [
        {
          "output_type": "stream",
          "text": [
            "enter the number:28\n",
            "28 is not a prime number\n"
          ],
          "name": "stdout"
        }
      ]
    },
    {
      "cell_type": "markdown",
      "metadata": {
        "id": "Xk6kaS1K3S_y",
        "colab_type": "text"
      },
      "source": [
        "write a python function to find sum of squares of first n natural number"
      ]
    },
    {
      "cell_type": "code",
      "metadata": {
        "id": "_k2VCCcB5fiX",
        "colab_type": "code",
        "colab": {}
      },
      "source": [
        "def squaresum(n):\n",
        "  sm=0\n",
        "  for i in range(1,n+1):\n",
        "    sm=sm+(i*i)\n",
        "    return sm\n",
        "\n",
        "\n",
        "   \n",
        "    \n",
        "\n",
        "     "
      ],
      "execution_count": 37,
      "outputs": []
    },
    {
      "cell_type": "code",
      "metadata": {
        "id": "3xHXCER-AMgz",
        "colab_type": "code",
        "colab": {
          "base_uri": "https://localhost:8080/",
          "height": 34
        },
        "outputId": "4716b67e-0270-4441-e290-183d4c6ebb81"
      },
      "source": [
        "n=5\n",
        "print(squaresum(n))"
      ],
      "execution_count": 38,
      "outputs": [
        {
          "output_type": "stream",
          "text": [
            "1\n"
          ],
          "name": "stdout"
        }
      ]
    }
  ]
}