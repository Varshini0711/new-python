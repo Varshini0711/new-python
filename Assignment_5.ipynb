{
  "nbformat": 4,
  "nbformat_minor": 0,
  "metadata": {
    "colab": {
      "name": "Assignment_5.ipynb",
      "provenance": [],
      "authorship_tag": "ABX9TyNFWpYWgo/EaFxcFvO7KlgD",
      "include_colab_link": true
    },
    "kernelspec": {
      "name": "python3",
      "display_name": "Python 3"
    }
  },
  "cells": [
    {
      "cell_type": "markdown",
      "metadata": {
        "id": "view-in-github",
        "colab_type": "text"
      },
      "source": [
        "<a href=\"https://colab.research.google.com/github/Varshini0711/new-python/blob/master/Assignment_5.ipynb\" target=\"_parent\"><img src=\"https://colab.research.google.com/assets/colab-badge.svg\" alt=\"Open In Colab\"/></a>"
      ]
    },
    {
      "cell_type": "markdown",
      "metadata": {
        "id": "MOay3D0y1QdD",
        "colab_type": "text"
      },
      "source": [
        "find the area of circle using math function"
      ]
    },
    {
      "cell_type": "code",
      "metadata": {
        "id": "-QLBYFUQ0sIm",
        "colab_type": "code",
        "colab": {
          "base_uri": "https://localhost:8080/",
          "height": 51
        },
        "outputId": "905e420c-4698-42f0-d0d3-fe49f033d68f"
      },
      "source": [
        "import math\n",
        "r=float(input(\"enter the radius\"))\n",
        "area=math.pi*r*r\n",
        "print(area,\"the area is\")"
      ],
      "execution_count": null,
      "outputs": [
        {
          "output_type": "stream",
          "text": [
            "enter the radius28.7\n",
            "2587.6984528353764 the area is\n"
          ],
          "name": "stdout"
        }
      ]
    },
    {
      "cell_type": "markdown",
      "metadata": {
        "id": "CVBqN-ZU1e44",
        "colab_type": "text"
      },
      "source": [
        "find the area of regular polygon using math function"
      ]
    },
    {
      "cell_type": "code",
      "metadata": {
        "id": "-w1qLOc_1yCd",
        "colab_type": "code",
        "colab": {
          "base_uri": "https://localhost:8080/",
          "height": 68
        },
        "outputId": "6aa0d771-cb94-4734-c6d1-1826d548045f"
      },
      "source": [
        "from math import tan,pi\n",
        "n_sides=int(input(\"input number of sides:\"))\n",
        "s_length=float(input(\"input the length of a side:\"))\n",
        "p_area=n_sides*(s_length**2)/(4*tan(pi/n_sides))\n",
        "print(\"the area of the polygon is:\",p_area)"
      ],
      "execution_count": null,
      "outputs": [
        {
          "output_type": "stream",
          "text": [
            "input number of sides:5\n",
            "input the length of a side:25\n",
            "the area of the polygon is: 1075.2983753681044\n"
          ],
          "name": "stdout"
        }
      ]
    },
    {
      "cell_type": "markdown",
      "metadata": {
        "id": "JQDIqgx94BDe",
        "colab_type": "text"
      },
      "source": [
        "find area of a segment of a circle formula using math function"
      ]
    },
    {
      "cell_type": "code",
      "metadata": {
        "id": "r0cyYmKA4ngc",
        "colab_type": "code",
        "colab": {
          "base_uri": "https://localhost:8080/",
          "height": 129
        },
        "outputId": "c63dbbfd-503b-44cf-8cfd-384aaead5c06"
      },
      "source": [
        "import math\n",
        "\n",
        "pi=3.14159\n",
        "def area_of_segment(radius,angle):\n",
        "  area_of_sector=pi*(radius*radius)*(angle/360)\n",
        "  area_of_triangle=1/2*(radius*radius)*math.sin((angle*pi)/180)\n",
        "  return area_of_sector~area_of_triangle:\n",
        "   radius=10.0\n",
        "   angle=90.0\n",
        "  print(\"area of minor segment=\",area_of_segment(radius,angle))\n",
        "  print(\"area of major segment=\",area_of_segment(radius,(360~angle)))\n"
      ],
      "execution_count": null,
      "outputs": [
        {
          "output_type": "error",
          "ename": "SyntaxError",
          "evalue": "ignored",
          "traceback": [
            "\u001b[0;36m  File \u001b[0;32m\"<ipython-input-11-40402d39444e>\"\u001b[0;36m, line \u001b[0;32m7\u001b[0m\n\u001b[0;31m    return area_of_sector~area_of_triangle:\u001b[0m\n\u001b[0m                         ^\u001b[0m\n\u001b[0;31mSyntaxError\u001b[0m\u001b[0;31m:\u001b[0m invalid syntax\n"
          ]
        }
      ]
    },
    {
      "cell_type": "markdown",
      "metadata": {
        "id": "r2Tr2O7k55VN",
        "colab_type": "text"
      },
      "source": [
        "write a python program to shuffle list"
      ]
    },
    {
      "cell_type": "code",
      "metadata": {
        "id": "7DHhG_x_6HUI",
        "colab_type": "code",
        "colab": {
          "base_uri": "https://localhost:8080/",
          "height": 68
        },
        "outputId": "feb41f9d-9f7d-4b66-97da-beeb18d586f5"
      },
      "source": [
        "import random\n",
        "number_list=[100,1,2,3,30,40,\"hai\",\"hello\"]\n",
        "print(\"original list:\",number_list)\n",
        "random.shuffle(number_list)\n",
        "print(\"list after first shuffle:\",number_list)\n",
        "random.shuffle(number_list)\n",
        "print(\"list after second shuffle:\",number_list)"
      ],
      "execution_count": null,
      "outputs": [
        {
          "output_type": "stream",
          "text": [
            "original list: [100, 1, 2, 3, 30, 40, 'hai', 'hello']\n",
            "list after first shuffle: ['hai', 3, 100, 40, 'hello', 30, 2, 1]\n",
            "list after second shuffle: [3, 'hello', 2, 1, 100, 'hai', 30, 40]\n"
          ],
          "name": "stdout"
        }
      ]
    },
    {
      "cell_type": "markdown",
      "metadata": {
        "id": "XK98dugk-cSJ",
        "colab_type": "text"
      },
      "source": [
        "write a program to generate random numberb/w 1,10000 and difference"
      ]
    },
    {
      "cell_type": "code",
      "metadata": {
        "id": "aaUj_lRbF6SH",
        "colab_type": "code",
        "colab": {
          "base_uri": "https://localhost:8080/",
          "height": 34
        },
        "outputId": "2952a092-5dad-401e-849d-52790383cbc2"
      },
      "source": [
        "import random\n",
        "randomlist=random.sample(range(1,10000),5)\n",
        "print(randomlist)"
      ],
      "execution_count": 1,
      "outputs": [
        {
          "output_type": "stream",
          "text": [
            "[4726, 2038, 9663, 2931, 7989]\n"
          ],
          "name": "stdout"
        }
      ]
    },
    {
      "cell_type": "code",
      "metadata": {
        "id": "ukYetC1mGuGo",
        "colab_type": "code",
        "colab": {
          "base_uri": "https://localhost:8080/",
          "height": 136
        },
        "outputId": "cca897ec-5812-476c-fb87-fb17f3fd2119"
      },
      "source": [
        "import math\n",
        "print(\"sin 60\",math.sin(60))\n",
        "print(\"cos(pi)\",math.cos(pi))\n",
        "print(\"tan 90\",math.tan(90))\n",
        "print(\"5^8\",5**8)\n",
        "print(\"squrt 400\",math.sqrt(400))\n",
        "print(\"floor\",math.floor(23.56))\n",
        "print(\"celling\",math.ceil(23.56))"
      ],
      "execution_count": null,
      "outputs": [
        {
          "output_type": "stream",
          "text": [
            "sin 60 -0.3048106211022167\n",
            "cos(pi) -1.0\n",
            "tan 90 -1.995200412208242\n",
            "5^8 390625\n",
            "squrt 400 20.0\n",
            "floor 23\n",
            "celling 24\n"
          ],
          "name": "stdout"
        }
      ]
    }
  ]
}