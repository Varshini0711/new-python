{
  "nbformat": 4,
  "nbformat_minor": 0,
  "metadata": {
    "colab": {
      "name": "Assigment_9.ipynb",
      "provenance": [],
      "authorship_tag": "ABX9TyPYXHCke2wSLUm3vl3PA7sn",
      "include_colab_link": true
    },
    "kernelspec": {
      "name": "python3",
      "display_name": "Python 3"
    }
  },
  "cells": [
    {
      "cell_type": "markdown",
      "metadata": {
        "id": "view-in-github",
        "colab_type": "text"
      },
      "source": [
        "<a href=\"https://colab.research.google.com/github/Varshini0711/new-python/blob/master/Assigment_9.ipynb\" target=\"_parent\"><img src=\"https://colab.research.google.com/assets/colab-badge.svg\" alt=\"Open In Colab\"/></a>"
      ]
    },
    {
      "cell_type": "code",
      "metadata": {
        "id": "ZwFOP2RmeYZB",
        "colab_type": "code",
        "colab": {
          "base_uri": "https://localhost:8080/",
          "height": 493
        },
        "outputId": "023c4d39-e8b6-4439-9a08-77ee6b782547"
      },
      "source": [
        "for fizzbuzz in range(28):\n",
        "    if fizzbuzz % 3 == 0 and fizzbuzz % 5 == 0:\n",
        "        print(\"fizzbuzz\")\n",
        "        continue\n",
        "    elif fizzbuzz % 3 == 0:\n",
        "        print(\"fizz\")\n",
        "        continue\n",
        "    elif fizzbuzz % 5 == 0:\n",
        "        print(\"buzz\")\n",
        "        continue\n",
        "    print(fizzbuzz)"
      ],
      "execution_count": 2,
      "outputs": [
        {
          "output_type": "stream",
          "text": [
            "fizzbuzz\n",
            "1\n",
            "2\n",
            "fizz\n",
            "4\n",
            "buzz\n",
            "fizz\n",
            "7\n",
            "8\n",
            "fizz\n",
            "buzz\n",
            "11\n",
            "fizz\n",
            "13\n",
            "14\n",
            "fizzbuzz\n",
            "16\n",
            "17\n",
            "fizz\n",
            "19\n",
            "buzz\n",
            "fizz\n",
            "22\n",
            "23\n",
            "fizz\n",
            "buzz\n",
            "26\n",
            "fizz\n"
          ],
          "name": "stdout"
        }
      ]
    },
    {
      "cell_type": "markdown",
      "metadata": {
        "id": "t2nKTQA9fsSE",
        "colab_type": "text"
      },
      "source": [
        "write a program to find unique element from a list"
      ]
    },
    {
      "cell_type": "code",
      "metadata": {
        "id": "D1_Y3BU3gBOd",
        "colab_type": "code",
        "colab": {
          "base_uri": "https://localhost:8080/",
          "height": 51
        },
        "outputId": "9ae922b2-df88-44fc-c380-eed255c02169"
      },
      "source": [
        "my_list = [10, 28, 22, 15, 7, 28, 30,40]\n",
        "print(\"Original List : \",my_list)\n",
        "my_set = set(my_list)\n",
        "my_new_list = list(my_set)\n",
        "print(\"List of unique numbers : \",my_new_list)"
      ],
      "execution_count": 5,
      "outputs": [
        {
          "output_type": "stream",
          "text": [
            "Original List :  [10, 28, 22, 15, 7, 28, 30, 40]\n",
            "List of unique numbers :  [7, 40, 10, 15, 22, 28, 30]\n"
          ],
          "name": "stdout"
        }
      ]
    },
    {
      "cell_type": "markdown",
      "metadata": {
        "id": "gz-uwjLngzH2",
        "colab_type": "text"
      },
      "source": [
        "write a python that checks whether a number is in a given range(inclusive of high and low)"
      ]
    },
    {
      "cell_type": "code",
      "metadata": {
        "id": "XudvgzK5hhld",
        "colab_type": "code",
        "colab": {
          "base_uri": "https://localhost:8080/",
          "height": 34
        },
        "outputId": "e6f7af0a-a07d-4768-caf9-0754247e6325"
      },
      "source": [
        "def test_range(n):\n",
        "    if n in range(3,9):\n",
        "        print( \" %s is in the range\"%str(n))\n",
        "    else :\n",
        "        print(\"The number is outside the given range.\")\n",
        "test_range(10)"
      ],
      "execution_count": 7,
      "outputs": [
        {
          "output_type": "stream",
          "text": [
            "The number is outside the given range.\n"
          ],
          "name": "stdout"
        }
      ]
    },
    {
      "cell_type": "markdown",
      "metadata": {
        "id": "wnUjVk1zho5C",
        "colab_type": "text"
      },
      "source": [
        "write a python function that accepts a string and calculates the number of upper case letters and lower case letters."
      ]
    },
    {
      "cell_type": "code",
      "metadata": {
        "id": "_ojHt9TYiDkK",
        "colab_type": "code",
        "colab": {
          "base_uri": "https://localhost:8080/",
          "height": 68
        },
        "outputId": "ab3a58bd-7470-4527-ea9d-773fc1dd7eb2"
      },
      "source": [
        "def string_test(s):\n",
        "    d={\"UPPER_CASE\":0, \"LOWER_CASE\":0}\n",
        "    for c in s:\n",
        "        if c.isupper():\n",
        "           d[\"UPPER_CASE\"]+=1\n",
        "        elif c.islower():\n",
        "           d[\"LOWER_CASE\"]+=1\n",
        "        else:\n",
        "           pass\n",
        "    print (\"Original String : \", s)\n",
        "    print (\"No. of Upper case characters : \", d[\"UPPER_CASE\"])\n",
        "    print (\"No. of Lower case Characters : \", d[\"LOWER_CASE\"])\n",
        "\n",
        "string_test('Hello Mr.Rogers,how are you this fine Tuesday?')"
      ],
      "execution_count": 8,
      "outputs": [
        {
          "output_type": "stream",
          "text": [
            "Original String :  Hello Mr.Rogers,how are you this fine Tuesday?\n",
            "No. of Upper case characters :  4\n",
            "No. of Lower case Characters :  33\n"
          ],
          "name": "stdout"
        }
      ]
    }
  ]
}