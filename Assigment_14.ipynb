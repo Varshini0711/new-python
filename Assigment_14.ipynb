{
  "nbformat": 4,
  "nbformat_minor": 0,
  "metadata": {
    "colab": {
      "name": "Assigment_14.ipynb",
      "provenance": [],
      "authorship_tag": "ABX9TyMT7G4PxVul3qxPhjF5raKu",
      "include_colab_link": true
    },
    "kernelspec": {
      "name": "python3",
      "display_name": "Python 3"
    }
  },
  "cells": [
    {
      "cell_type": "markdown",
      "metadata": {
        "id": "view-in-github",
        "colab_type": "text"
      },
      "source": [
        "<a href=\"https://colab.research.google.com/github/Varshini0711/new-python/blob/master/Assigment_14.ipynb\" target=\"_parent\"><img src=\"https://colab.research.google.com/assets/colab-badge.svg\" alt=\"Open In Colab\"/></a>"
      ]
    },
    {
      "cell_type": "code",
      "metadata": {
        "id": "zak3sURJtnFf",
        "colab_type": "code",
        "colab": {}
      },
      "source": [
        ""
      ],
      "execution_count": null,
      "outputs": []
    },
    {
      "cell_type": "markdown",
      "metadata": {
        "id": "kmwzG2yrtqME",
        "colab_type": "text"
      },
      "source": [
        "write a python program to convert a tuple to a dictionary"
      ]
    },
    {
      "cell_type": "code",
      "metadata": {
        "id": "wNJV_ITstyah",
        "colab_type": "code",
        "colab": {
          "base_uri": "https://localhost:8080/",
          "height": 34
        },
        "outputId": "8d9783f8-7ddc-49c9-864e-f057a7086cba"
      },
      "source": [
        "tuplex = ((7, \"h\"),(28, \"p\"))\n",
        "print(dict((y, x) for x, y in tuplex))"
      ],
      "execution_count": 1,
      "outputs": [
        {
          "output_type": "stream",
          "text": [
            "{'h': 7, 'p': 28}\n"
          ],
          "name": "stdout"
        }
      ]
    },
    {
      "cell_type": "markdown",
      "metadata": {
        "id": "CIpixx8WuccF",
        "colab_type": "text"
      },
      "source": [
        "write a python program to convert a list of tuples into a dictionary"
      ]
    },
    {
      "cell_type": "code",
      "metadata": {
        "id": "NCl35hzhuz9D",
        "colab_type": "code",
        "colab": {
          "base_uri": "https://localhost:8080/",
          "height": 34
        },
        "outputId": "01feabbb-8d75-4ed6-d8ad-ebb440f19ad2"
      },
      "source": [
        "l = [(\"x\", 14), (\"x\", 20), (\"x\", 34), (\"y\", 7), (\"y\", 28), (\"z\", 17)]\n",
        "d = {}\n",
        "for a, b in l:\n",
        "    d.setdefault(a, []).append(b)\n",
        "print (d)"
      ],
      "execution_count": 2,
      "outputs": [
        {
          "output_type": "stream",
          "text": [
            "{'x': [14, 20, 34], 'y': [7, 28], 'z': [17]}\n"
          ],
          "name": "stdout"
        }
      ]
    }
  ]
}