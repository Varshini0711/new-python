{
  "nbformat": 4,
  "nbformat_minor": 0,
  "metadata": {
    "colab": {
      "name": "Assigment_6.ipynb",
      "provenance": [],
      "authorship_tag": "ABX9TyMVRtEWmRS1xZdm5tGEbnPy",
      "include_colab_link": true
    },
    "kernelspec": {
      "name": "python3",
      "display_name": "Python 3"
    }
  },
  "cells": [
    {
      "cell_type": "markdown",
      "metadata": {
        "id": "view-in-github",
        "colab_type": "text"
      },
      "source": [
        "<a href=\"https://colab.research.google.com/github/Varshini0711/new-python/blob/master/Assigment_6.ipynb\" target=\"_parent\"><img src=\"https://colab.research.google.com/assets/colab-badge.svg\" alt=\"Open In Colab\"/></a>"
      ]
    },
    {
      "cell_type": "markdown",
      "metadata": {
        "id": "TCOjJIAd7d-j",
        "colab_type": "text"
      },
      "source": [
        "generate first N number of fibonacci numbers.take N value from user"
      ]
    },
    {
      "cell_type": "code",
      "metadata": {
        "id": "bMwRvvbR7qsg",
        "colab_type": "code",
        "colab": {
          "base_uri": "https://localhost:8080/",
          "height": 51
        },
        "outputId": "beb5c29b-a87c-4400-c348-746ef1162513"
      },
      "source": [
        "n=int(input(\"enter the value of 'n':\"))\n",
        "a=0\n",
        "b=1\n",
        "sum=0\n",
        "count=1\n",
        "print(\"fibonacci series:\",end=\"\")\n",
        "while(count<=n):\n",
        "  print(sum,end=\"\")\n",
        "  count+=1\n",
        "  a=b\n",
        "  b=sum\n",
        "  sum=a+b"
      ],
      "execution_count": 3,
      "outputs": [
        {
          "output_type": "stream",
          "text": [
            "enter the value of 'n':7\n",
            "fibonacci series:0112358"
          ],
          "name": "stdout"
        }
      ]
    },
    {
      "cell_type": "markdown",
      "metadata": {
        "id": "aSzvk6_d8_za",
        "colab_type": "text"
      },
      "source": [
        "display multiplication table of k.take K value from user"
      ]
    },
    {
      "cell_type": "code",
      "metadata": {
        "id": "pN3EUXu9-oMT",
        "colab_type": "code",
        "colab": {
          "base_uri": "https://localhost:8080/",
          "height": 204
        },
        "outputId": "9b759244-0dd9-4820-b59f-1e271e72ce47"
      },
      "source": [
        "k=int(input(\"input a number:\"))\n",
        "\n",
        "for i in range(1,11):\n",
        "  print(k,'*',i,'=',k*i)"
      ],
      "execution_count": 4,
      "outputs": [
        {
          "output_type": "stream",
          "text": [
            "input a number:28\n",
            "28 * 1 = 28\n",
            "28 * 2 = 56\n",
            "28 * 3 = 84\n",
            "28 * 4 = 112\n",
            "28 * 5 = 140\n",
            "28 * 6 = 168\n",
            "28 * 7 = 196\n",
            "28 * 8 = 224\n",
            "28 * 9 = 252\n",
            "28 * 10 = 280\n"
          ],
          "name": "stdout"
        }
      ]
    },
    {
      "cell_type": "markdown",
      "metadata": {
        "id": "_9hmy66B_5m9",
        "colab_type": "text"
      },
      "source": [
        "write a program to find GCD of two numbers"
      ]
    },
    {
      "cell_type": "code",
      "metadata": {
        "id": "OQ1Kr2UAA4pF",
        "colab_type": "code",
        "colab": {
          "base_uri": "https://localhost:8080/",
          "height": 68
        },
        "outputId": "d63b9001-0b67-45bf-f963-3fac9ad8fe18"
      },
      "source": [
        "num1=int(input(\"enter 1st number:\"))\n",
        "num2=int(input(\"enter 2nd number:\"))\n",
        "i=1\n",
        "while(i <= num1 and i <= num2):\n",
        "  if(num1 % i==0 and num2 % i==0):\n",
        "    gcd=i\n",
        "  i=i+1\n",
        "print(\"GCD is\", gcd)"
      ],
      "execution_count": 10,
      "outputs": [
        {
          "output_type": "stream",
          "text": [
            "enter 1st number:5\n",
            "enter 2nd number:15\n",
            "GCD is 5\n"
          ],
          "name": "stdout"
        }
      ]
    },
    {
      "cell_type": "markdown",
      "metadata": {
        "id": "dW40MjWjEoGE",
        "colab_type": "text"
      },
      "source": [
        "write a python program that accepts a word from the user and reverse it"
      ]
    },
    {
      "cell_type": "code",
      "metadata": {
        "id": "L4GGj4M7FnZT",
        "colab_type": "code",
        "colab": {
          "base_uri": "https://localhost:8080/",
          "height": 51
        },
        "outputId": "a1b4ee2f-f5d0-4d79-b5d9-1f645fb9514f"
      },
      "source": [
        "word=input(\"input a word to reverse:\")\n",
        "\n",
        "for char in range(len(word)-1,-1,-1):\n",
        "  print(word[char],end=\"\")\n"
      ],
      "execution_count": 12,
      "outputs": [
        {
          "output_type": "stream",
          "text": [
            "input a word to reverse:techstudy\n",
            "ydutshcet"
          ],
          "name": "stdout"
        }
      ]
    },
    {
      "cell_type": "markdown",
      "metadata": {
        "id": "rv4lhe3RHc5Q",
        "colab_type": "text"
      },
      "source": [
        "write a python program to count the number of even and odd numbers from a series of a numbers"
      ]
    },
    {
      "cell_type": "code",
      "metadata": {
        "id": "87uc7wwfHw3a",
        "colab_type": "code",
        "colab": {
          "base_uri": "https://localhost:8080/",
          "height": 51
        },
        "outputId": "df4795ff-5ced-4ebd-bcba-e64ef0f8f289"
      },
      "source": [
        "numbers=(1,2,3,4,5,6,7,8,9)\n",
        "count_odd=0\n",
        "count_even=0\n",
        "for x in numbers:\n",
        "     if not x % 2:\n",
        "        count_even+=1\n",
        "     else:\n",
        "        count_odd+=1\n",
        "print(\"number of even numbers:\",count_even)\n",
        "print(\"number of odd numbers:\",count_odd)        \n"
      ],
      "execution_count": 13,
      "outputs": [
        {
          "output_type": "stream",
          "text": [
            "number of even numbers: 4\n",
            "number of odd numbers: 5\n"
          ],
          "name": "stdout"
        }
      ]
    },
    {
      "cell_type": "code",
      "metadata": {
        "id": "f-yo32YxMP7Y",
        "colab_type": "code",
        "colab": {}
      },
      "source": [
        ""
      ],
      "execution_count": null,
      "outputs": []
    },
    {
      "cell_type": "markdown",
      "metadata": {
        "id": "j52MZy4hJOcD",
        "colab_type": "text"
      },
      "source": [
        "take 10 integers from keyboard using loop and print their average value on the screen print following pattern using loop"
      ]
    },
    {
      "cell_type": "code",
      "metadata": {
        "id": "Alk7BfH0J8vR",
        "colab_type": "code",
        "colab": {
          "base_uri": "https://localhost:8080/",
          "height": 129
        },
        "outputId": "2995d179-0542-4713-998e-7527562aaef9"
      },
      "source": [
        " def pypart(n):  \n",
        "   for i in range(0, n): \n",
        "\n",
        "        for j in range(0, i+1):  \n",
        "            print(\"* \",end=\"\") \n",
        "            print(\"\\r\")  \n",
        "\n",
        "n = 5 \n",
        "\n",
        "pypart(n)\n"
      ],
      "execution_count": 18,
      "outputs": [
        {
          "output_type": "error",
          "ename": "IndentationError",
          "evalue": "ignored",
          "traceback": [
            "\u001b[0;36m  File \u001b[0;32m\"<ipython-input-18-64ad574df2d3>\"\u001b[0;36m, line \u001b[0;32m4\u001b[0m\n\u001b[0;31m    for j in range(0, i+1):\u001b[0m\n\u001b[0m                             ^\u001b[0m\n\u001b[0;31mIndentationError\u001b[0m\u001b[0;31m:\u001b[0m expected an indented block\n"
          ]
        }
      ]
    },
    {
      "cell_type": "markdown",
      "metadata": {
        "id": "ykklOifOMyYE",
        "colab_type": "text"
      },
      "source": [
        "write a python program that prints all the numbers from 0 to 6 excepts 3 and 6"
      ]
    },
    {
      "cell_type": "code",
      "metadata": {
        "id": "jB1CSfnKNTTk",
        "colab_type": "code",
        "colab": {
          "base_uri": "https://localhost:8080/",
          "height": 34
        },
        "outputId": "6b9d1516-65b5-47d7-c375-2d9a786196aa"
      },
      "source": [
        "for x in range(6):\n",
        "   if (x==3 or x==6):\n",
        "     continue\n",
        "   print(x,end =\"\")\n",
        "     "
      ],
      "execution_count": 24,
      "outputs": [
        {
          "output_type": "stream",
          "text": [
            "01245"
          ],
          "name": "stdout"
        }
      ]
    },
    {
      "cell_type": "markdown",
      "metadata": {
        "id": "vtndxsRdOeJ_",
        "colab_type": "text"
      },
      "source": [
        "convert binaery number to decimal"
      ]
    },
    {
      "cell_type": "code",
      "metadata": {
        "id": "iHRQTvsNPnVX",
        "colab_type": "code",
        "colab": {
          "base_uri": "https://localhost:8080/",
          "height": 51
        },
        "outputId": "ee9adbaa-2d07-4f2f-866f-ec938f65359d"
      },
      "source": [
        "b_num=list(input(\"input a binary number:\"))\n",
        "value=0\n",
        "\n",
        "for i in range(len(b_num)):\n",
        "     digit=b_num.pop()\n",
        "if digit =='1':\n",
        "     value=value+pow(2,i)\n",
        "print(\"the decimal value of the number is\",value)  \n"
      ],
      "execution_count": 29,
      "outputs": [
        {
          "output_type": "stream",
          "text": [
            "input a binary number:100110\n",
            "the decimal value of the number is 32\n"
          ],
          "name": "stdout"
        }
      ]
    }
  ]
}