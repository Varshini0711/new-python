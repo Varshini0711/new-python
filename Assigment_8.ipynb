{
  "nbformat": 4,
  "nbformat_minor": 0,
  "metadata": {
    "colab": {
      "name": "Assigment_8.ipynb",
      "provenance": [],
      "authorship_tag": "ABX9TyMI38choVZpKHHKOqh75p1s",
      "include_colab_link": true
    },
    "kernelspec": {
      "name": "python3",
      "display_name": "Python 3"
    }
  },
  "cells": [
    {
      "cell_type": "markdown",
      "metadata": {
        "id": "view-in-github",
        "colab_type": "text"
      },
      "source": [
        "<a href=\"https://colab.research.google.com/github/Varshini0711/new-python/blob/master/Assigment_8.ipynb\" target=\"_parent\"><img src=\"https://colab.research.google.com/assets/colab-badge.svg\" alt=\"Open In Colab\"/></a>"
      ]
    },
    {
      "cell_type": "markdown",
      "metadata": {
        "id": "8kXymFEMAE1N",
        "colab_type": "text"
      },
      "source": [
        "write a python program to calculate the length of a string"
      ]
    },
    {
      "cell_type": "code",
      "metadata": {
        "id": "y0mUegQ1ARlz",
        "colab_type": "code",
        "colab": {
          "base_uri": "https://localhost:8080/",
          "height": 51
        },
        "outputId": "a500020a-301b-4ed1-b9ad-c0f8703cf721"
      },
      "source": [
        "str = input(\"Enter a string: \")\n",
        "\n",
        "counter = 0\n",
        "for s in str:\n",
        "      counter = counter+1\n",
        "print(\"Length of the input string is:\", counter)"
      ],
      "execution_count": null,
      "outputs": [
        {
          "output_type": "stream",
          "text": [
            "Enter a string: GitamUniversity\n",
            "Length of the input string is: 15\n"
          ],
          "name": "stdout"
        }
      ]
    },
    {
      "cell_type": "markdown",
      "metadata": {
        "id": "QVHTXb1kAubp",
        "colab_type": "text"
      },
      "source": [
        "write a python program to count the number of characters in a string"
      ]
    },
    {
      "cell_type": "code",
      "metadata": {
        "id": "sX4XeG1uCKTj",
        "colab_type": "code",
        "colab": {
          "base_uri": "https://localhost:8080/",
          "height": 34
        },
        "outputId": "775cd7b0-639f-4d1f-88fa-e4a46d2d3311"
      },
      "source": [
        "def char_frequency(str1):\n",
        "    dict = {}\n",
        "    for n in str1:\n",
        "        keys = dict.keys()\n",
        "        if n in keys:\n",
        "            dict[n] += 1\n",
        "        else:\n",
        "            dict[n] = 1\n",
        "    return dict\n",
        "print(char_frequency('unversity.com'))"
      ],
      "execution_count": null,
      "outputs": [
        {
          "output_type": "stream",
          "text": [
            "{'u': 1, 'n': 1, 'v': 1, 'e': 1, 'r': 1, 's': 1, 'i': 1, 't': 1, 'y': 1, '.': 1, 'c': 1, 'o': 1, 'm': 1}\n"
          ],
          "name": "stdout"
        }
      ]
    },
    {
      "cell_type": "markdown",
      "metadata": {
        "id": "-EUsBKtfCV0a",
        "colab_type": "text"
      },
      "source": [
        "write a python program to get a single string from two given strings,separated by a space and swap the frist two character of each string"
      ]
    },
    {
      "cell_type": "code",
      "metadata": {
        "id": "Say1w08MDq2H",
        "colab_type": "code",
        "colab": {
          "base_uri": "https://localhost:8080/",
          "height": 34
        },
        "outputId": "d868d2c6-6d89-47b5-f514-938373f6bd97"
      },
      "source": [
        "def chars_mix_up(a, b):  \n",
        "  new_a = b[:2] + a[2:]  \n",
        "  new_b = a[:2] + b[2:]  \n",
        "  \n",
        "  return new_a + ' ' + new_b  \n",
        "print(chars_mix_up('abc', 'xyz'))"
      ],
      "execution_count": null,
      "outputs": [
        {
          "output_type": "stream",
          "text": [
            "xyc abz\n"
          ],
          "name": "stdout"
        }
      ]
    },
    {
      "cell_type": "markdown",
      "metadata": {
        "id": "dpTly8SxFdc5",
        "colab_type": "text"
      },
      "source": [
        "write python script that takes input from the user and display that input back in upper and lower case"
      ]
    },
    {
      "cell_type": "code",
      "metadata": {
        "id": "hOjmgFiMFUK-",
        "colab_type": "code",
        "colab": {
          "base_uri": "https://localhost:8080/",
          "height": 68
        },
        "outputId": "46e45d80-a6fc-47d2-ec2e-a7a233d58287"
      },
      "source": [
        "user_input = input(\"What's your favourite language? \")\n",
        "print(\"My favourite language is \", user_input.upper())\n",
        "print(\"My favourite language is \", user_input.lower())"
      ],
      "execution_count": null,
      "outputs": [
        {
          "output_type": "stream",
          "text": [
            "What's your favourite language? maths\n",
            "My favourite language is  MATHS\n",
            "My favourite language is  maths\n"
          ],
          "name": "stdout"
        }
      ]
    },
    {
      "cell_type": "markdown",
      "metadata": {
        "id": "MNd328NLFmPj",
        "colab_type": "text"
      },
      "source": [
        "write python program to remove a newline in python"
      ]
    },
    {
      "cell_type": "code",
      "metadata": {
        "id": "I7F_RBeOFv8X",
        "colab_type": "code",
        "colab": {
          "base_uri": "https://localhost:8080/",
          "height": 68
        },
        "outputId": "c5085614-106b-4e22-d74d-e4eeff9c691f"
      },
      "source": [
        "str1='Python program\\n'\n",
        "print(str1)\n",
        "print(str1.rstrip())"
      ],
      "execution_count": null,
      "outputs": [
        {
          "output_type": "stream",
          "text": [
            "Python program\n",
            "\n",
            "Python program\n"
          ],
          "name": "stdout"
        }
      ]
    },
    {
      "cell_type": "markdown",
      "metadata": {
        "id": "9QG04HU_HV_K",
        "colab_type": "text"
      },
      "source": [
        "write a python program to count occurrences of a substring in a string"
      ]
    },
    {
      "cell_type": "code",
      "metadata": {
        "id": "rbFDiIbCH3iT",
        "colab_type": "code",
        "colab": {
          "base_uri": "https://localhost:8080/",
          "height": 68
        },
        "outputId": "3e47a0d4-4ed7-49d4-f440-ff013a361f81"
      },
      "source": [
        "str1 = 'Once you know the truth you are never the same.'\n",
        "print()\n",
        "print(str1.count(\"the\"))\n",
        "print()"
      ],
      "execution_count": null,
      "outputs": [
        {
          "output_type": "stream",
          "text": [
            "\n",
            "2\n",
            "\n"
          ],
          "name": "stdout"
        }
      ]
    },
    {
      "cell_type": "markdown",
      "metadata": {
        "id": "ZV3l5utdJBgu",
        "colab_type": "text"
      },
      "source": [
        "write a python program to convert a string in a list"
      ]
    },
    {
      "cell_type": "code",
      "metadata": {
        "id": "zqObr6trQtQU",
        "colab_type": "code",
        "colab": {
          "base_uri": "https://localhost:8080/",
          "height": 34
        },
        "outputId": "24863c2e-8cdb-4381-8956-6e57913fa958"
      },
      "source": [
        "def Convert(string): \n",
        "    li = list(string.split(\" \")) \n",
        "    return li\n",
        "\n",
        "str1 = \"you can totally do this\"\n",
        "print(Convert(str1))"
      ],
      "execution_count": 9,
      "outputs": [
        {
          "output_type": "stream",
          "text": [
            "['you', 'can', 'totally', 'do', 'this']\n"
          ],
          "name": "stdout"
        }
      ]
    },
    {
      "cell_type": "markdown",
      "metadata": {
        "id": "8R0Y4mNGR6x5",
        "colab_type": "text"
      },
      "source": [
        "write a python program to perfrom deletion of a character"
      ]
    },
    {
      "cell_type": "code",
      "metadata": {
        "id": "GMDNyIihSK5S",
        "colab_type": "code",
        "colab": {
          "base_uri": "https://localhost:8080/",
          "height": 34
        },
        "outputId": "51b472bc-71ab-4e23-a210-12954ee9ab03"
      },
      "source": [
        "def remove(string, i):\n",
        "   a = string[ : i]\n",
        "   b = string[i + 1: ]\n",
        "   return a + b\n",
        "\n",
        "if __name__ == '__main__':\n",
        "   string = \"Tutorialspoint\"\n",
        "   i = 7\n",
        "   print(remove(string, i))"
      ],
      "execution_count": 11,
      "outputs": [
        {
          "output_type": "stream",
          "text": [
            "Tutoriaspoint\n"
          ],
          "name": "stdout"
        }
      ]
    },
    {
      "cell_type": "markdown",
      "metadata": {
        "id": "pczUxhhYTYmA",
        "colab_type": "text"
      },
      "source": [
        "write a python orogram to print every character of a string entered by user in a new line using loop"
      ]
    },
    {
      "cell_type": "code",
      "metadata": {
        "id": "huAXcpt4UV4X",
        "colab_type": "code",
        "colab": {
          "base_uri": "https://localhost:8080/",
          "height": 119
        },
        "outputId": "126e434d-24e0-4b52-99f6-4138831f81a4"
      },
      "source": [
        "str1 = input(\"Please Enter your Own String : \")\n",
        " \n",
        "for i in range(len(str1)):\n",
        "    print(\"The Character at %d Index Position = %c\" %(i, str1[i]))"
      ],
      "execution_count": 14,
      "outputs": [
        {
          "output_type": "stream",
          "text": [
            "Please Enter your Own String : index\n",
            "The Character at 0 Index Position = i\n",
            "The Character at 1 Index Position = n\n",
            "The Character at 2 Index Position = d\n",
            "The Character at 3 Index Position = e\n",
            "The Character at 4 Index Position = x\n"
          ],
          "name": "stdout"
        }
      ]
    },
    {
      "cell_type": "markdown",
      "metadata": {
        "id": "Y4aXYXjBVGiD",
        "colab_type": "text"
      },
      "source": [
        "write a program to find the length of the string\"refrigerator\" without using len function"
      ]
    },
    {
      "cell_type": "code",
      "metadata": {
        "id": "uql36gYVWMQk",
        "colab_type": "code",
        "colab": {
          "base_uri": "https://localhost:8080/",
          "height": 68
        },
        "outputId": "e299defd-ddda-4349-cd50-f0365e396955"
      },
      "source": [
        "string=input(\"Enter string:\")\n",
        "count=0\n",
        "for i in string:\n",
        "      count=count+1\n",
        "print(\"Length of the string is:\")\n",
        "print(count)"
      ],
      "execution_count": 16,
      "outputs": [
        {
          "output_type": "stream",
          "text": [
            "Enter string:\"refrigerator\"\n",
            "Length of the string is:\n",
            "14\n"
          ],
          "name": "stdout"
        }
      ]
    }
  ]
}